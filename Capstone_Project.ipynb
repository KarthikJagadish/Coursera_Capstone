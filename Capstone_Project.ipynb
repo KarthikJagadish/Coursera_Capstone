{
 "cells": [
  {
   "cell_type": "markdown",
   "metadata": {
    "colab_type": "text",
    "id": "3woehK4A_3cx"
   },
   "source": [
    "# Coursera Capstone Project - Car Accident Severity"
   ]
  },
  {
   "cell_type": "markdown",
   "metadata": {
    "colab_type": "text",
    "id": "FmAUmWih_3cz"
   },
   "source": [
    "This notebook is for the Capstone Project on Car Accident Severity which is offered by IBM on Coursera."
   ]
  },
  {
   "cell_type": "code",
   "execution_count": null,
   "metadata": {
    "colab": {},
    "colab_type": "code",
    "id": "ntzNOuYN_3c1"
   },
   "outputs": [],
   "source": [
    "import pandas as pd\n",
    "import numpy as np\n",
    "from sklearn.model_selection import train_test_split"
   ]
  },
  {
   "cell_type": "code",
   "execution_count": null,
   "metadata": {
    "colab": {
     "base_uri": "https://localhost:8080/",
     "height": 35
    },
    "colab_type": "code",
    "id": "DvEl7V8B_3c6",
    "outputId": "9944d2b0-71aa-451a-8ca6-2e4c300bc171"
   },
   "outputs": [
    {
     "name": "stdout",
     "output_type": "stream",
     "text": [
      "Hello Capstone Project Course!\n"
     ]
    }
   ],
   "source": [
    "print(\"Hello Capstone Project Course!\")"
   ]
  },
  {
   "cell_type": "markdown",
   "metadata": {
    "colab_type": "text",
    "id": "-GLHeKW__3dB"
   },
   "source": [
    "# Seattle Accident Data"
   ]
  },
  {
   "cell_type": "markdown",
   "metadata": {
    "colab_type": "text",
    "id": "NminF_SG_3dC"
   },
   "source": [
    "This project uses the Seattle Accident Data as the dataset to work upon for the prediction of severity of the accident/collision based on the other attributes in the dataset.\n"
   ]
  },
  {
   "cell_type": "markdown",
   "metadata": {
    "colab_type": "text",
    "id": "CrzSa0oT_3dD"
   },
   "source": [
    "#### Importing the dataset"
   ]
  },
  {
   "cell_type": "code",
   "execution_count": null,
   "metadata": {
    "colab": {
     "base_uri": "https://localhost:8080/",
     "height": 72
    },
    "colab_type": "code",
    "id": "DK957cjr_3dE",
    "outputId": "a788572a-37f6-40af-99ef-553809e65273"
   },
   "outputs": [
    {
     "name": "stderr",
     "output_type": "stream",
     "text": [
      "/usr/local/lib/python3.6/dist-packages/IPython/core/interactiveshell.py:2718: DtypeWarning: Columns (33) have mixed types.Specify dtype option on import or set low_memory=False.\n",
      "  interactivity=interactivity, compiler=compiler, result=result)\n"
     ]
    }
   ],
   "source": [
    "data = pd.read_csv('Data-Collisions.csv')"
   ]
  },
  {
   "cell_type": "code",
   "execution_count": null,
   "metadata": {
    "colab": {
     "base_uri": "https://localhost:8080/",
     "height": 177
    },
    "colab_type": "code",
    "id": "7-6h5PUT_3dK",
    "outputId": "e8b1fc93-846e-4cd0-8802-cd152305f64d"
   },
   "outputs": [
    {
     "data": {
      "text/plain": [
       "Index(['SEVERITYCODE', 'X', 'Y', 'OBJECTID', 'INCKEY', 'COLDETKEY', 'REPORTNO',\n",
       "       'STATUS', 'ADDRTYPE', 'INTKEY', 'LOCATION', 'EXCEPTRSNCODE',\n",
       "       'EXCEPTRSNDESC', 'SEVERITYCODE.1', 'SEVERITYDESC', 'COLLISIONTYPE',\n",
       "       'PERSONCOUNT', 'PEDCOUNT', 'PEDCYLCOUNT', 'VEHCOUNT', 'INCDATE',\n",
       "       'INCDTTM', 'JUNCTIONTYPE', 'SDOT_COLCODE', 'SDOT_COLDESC',\n",
       "       'INATTENTIONIND', 'UNDERINFL', 'WEATHER', 'ROADCOND', 'LIGHTCOND',\n",
       "       'PEDROWNOTGRNT', 'SDOTCOLNUM', 'SPEEDING', 'ST_COLCODE', 'ST_COLDESC',\n",
       "       'SEGLANEKEY', 'CROSSWALKKEY', 'HITPARKEDCAR'],\n",
       "      dtype='object')"
      ]
     },
     "execution_count": 137,
     "metadata": {
      "tags": []
     },
     "output_type": "execute_result"
    }
   ],
   "source": [
    "data.columns"
   ]
  },
  {
   "cell_type": "code",
   "execution_count": null,
   "metadata": {
    "colab": {
     "base_uri": "https://localhost:8080/",
     "height": 1000
    },
    "colab_type": "code",
    "id": "P9pHfByl_3dP",
    "outputId": "ce2a6205-ace0-4108-a836-08c62d742aa9"
   },
   "outputs": [
    {
     "data": {
      "text/html": [
       "<div>\n",
       "<style scoped>\n",
       "    .dataframe tbody tr th:only-of-type {\n",
       "        vertical-align: middle;\n",
       "    }\n",
       "\n",
       "    .dataframe tbody tr th {\n",
       "        vertical-align: top;\n",
       "    }\n",
       "\n",
       "    .dataframe thead th {\n",
       "        text-align: right;\n",
       "    }\n",
       "</style>\n",
       "<table border=\"1\" class=\"dataframe\">\n",
       "  <thead>\n",
       "    <tr style=\"text-align: right;\">\n",
       "      <th></th>\n",
       "      <th>SEVERITYCODE</th>\n",
       "      <th>X</th>\n",
       "      <th>Y</th>\n",
       "      <th>OBJECTID</th>\n",
       "      <th>INCKEY</th>\n",
       "      <th>COLDETKEY</th>\n",
       "      <th>REPORTNO</th>\n",
       "      <th>STATUS</th>\n",
       "      <th>ADDRTYPE</th>\n",
       "      <th>INTKEY</th>\n",
       "      <th>LOCATION</th>\n",
       "      <th>EXCEPTRSNCODE</th>\n",
       "      <th>EXCEPTRSNDESC</th>\n",
       "      <th>SEVERITYCODE.1</th>\n",
       "      <th>SEVERITYDESC</th>\n",
       "      <th>COLLISIONTYPE</th>\n",
       "      <th>PERSONCOUNT</th>\n",
       "      <th>PEDCOUNT</th>\n",
       "      <th>PEDCYLCOUNT</th>\n",
       "      <th>VEHCOUNT</th>\n",
       "      <th>INCDATE</th>\n",
       "      <th>INCDTTM</th>\n",
       "      <th>JUNCTIONTYPE</th>\n",
       "      <th>SDOT_COLCODE</th>\n",
       "      <th>SDOT_COLDESC</th>\n",
       "      <th>INATTENTIONIND</th>\n",
       "      <th>UNDERINFL</th>\n",
       "      <th>WEATHER</th>\n",
       "      <th>ROADCOND</th>\n",
       "      <th>LIGHTCOND</th>\n",
       "      <th>PEDROWNOTGRNT</th>\n",
       "      <th>SDOTCOLNUM</th>\n",
       "      <th>SPEEDING</th>\n",
       "      <th>ST_COLCODE</th>\n",
       "      <th>ST_COLDESC</th>\n",
       "      <th>SEGLANEKEY</th>\n",
       "      <th>CROSSWALKKEY</th>\n",
       "      <th>HITPARKEDCAR</th>\n",
       "    </tr>\n",
       "  </thead>\n",
       "  <tbody>\n",
       "    <tr>\n",
       "      <th>0</th>\n",
       "      <td>2</td>\n",
       "      <td>-122.323148</td>\n",
       "      <td>47.703140</td>\n",
       "      <td>1</td>\n",
       "      <td>1307</td>\n",
       "      <td>1307</td>\n",
       "      <td>3502005</td>\n",
       "      <td>Matched</td>\n",
       "      <td>Intersection</td>\n",
       "      <td>37475.0</td>\n",
       "      <td>5TH AVE NE AND NE 103RD ST</td>\n",
       "      <td></td>\n",
       "      <td>NaN</td>\n",
       "      <td>2</td>\n",
       "      <td>Injury Collision</td>\n",
       "      <td>Angles</td>\n",
       "      <td>2</td>\n",
       "      <td>0</td>\n",
       "      <td>0</td>\n",
       "      <td>2</td>\n",
       "      <td>2013/03/27 00:00:00+00</td>\n",
       "      <td>3/27/2013 2:54:00 PM</td>\n",
       "      <td>At Intersection (intersection related)</td>\n",
       "      <td>11</td>\n",
       "      <td>MOTOR VEHICLE STRUCK MOTOR VEHICLE, FRONT END ...</td>\n",
       "      <td>NaN</td>\n",
       "      <td>N</td>\n",
       "      <td>Overcast</td>\n",
       "      <td>Wet</td>\n",
       "      <td>Daylight</td>\n",
       "      <td>NaN</td>\n",
       "      <td>NaN</td>\n",
       "      <td>NaN</td>\n",
       "      <td>10</td>\n",
       "      <td>Entering at angle</td>\n",
       "      <td>0</td>\n",
       "      <td>0</td>\n",
       "      <td>N</td>\n",
       "    </tr>\n",
       "    <tr>\n",
       "      <th>1</th>\n",
       "      <td>1</td>\n",
       "      <td>-122.347294</td>\n",
       "      <td>47.647172</td>\n",
       "      <td>2</td>\n",
       "      <td>52200</td>\n",
       "      <td>52200</td>\n",
       "      <td>2607959</td>\n",
       "      <td>Matched</td>\n",
       "      <td>Block</td>\n",
       "      <td>NaN</td>\n",
       "      <td>AURORA BR BETWEEN RAYE ST AND BRIDGE WAY N</td>\n",
       "      <td>NaN</td>\n",
       "      <td>NaN</td>\n",
       "      <td>1</td>\n",
       "      <td>Property Damage Only Collision</td>\n",
       "      <td>Sideswipe</td>\n",
       "      <td>2</td>\n",
       "      <td>0</td>\n",
       "      <td>0</td>\n",
       "      <td>2</td>\n",
       "      <td>2006/12/20 00:00:00+00</td>\n",
       "      <td>12/20/2006 6:55:00 PM</td>\n",
       "      <td>Mid-Block (not related to intersection)</td>\n",
       "      <td>16</td>\n",
       "      <td>MOTOR VEHICLE STRUCK MOTOR VEHICLE, LEFT SIDE ...</td>\n",
       "      <td>NaN</td>\n",
       "      <td>0</td>\n",
       "      <td>Raining</td>\n",
       "      <td>Wet</td>\n",
       "      <td>Dark - Street Lights On</td>\n",
       "      <td>NaN</td>\n",
       "      <td>6354039.0</td>\n",
       "      <td>NaN</td>\n",
       "      <td>11</td>\n",
       "      <td>From same direction - both going straight - bo...</td>\n",
       "      <td>0</td>\n",
       "      <td>0</td>\n",
       "      <td>N</td>\n",
       "    </tr>\n",
       "    <tr>\n",
       "      <th>2</th>\n",
       "      <td>1</td>\n",
       "      <td>-122.334540</td>\n",
       "      <td>47.607871</td>\n",
       "      <td>3</td>\n",
       "      <td>26700</td>\n",
       "      <td>26700</td>\n",
       "      <td>1482393</td>\n",
       "      <td>Matched</td>\n",
       "      <td>Block</td>\n",
       "      <td>NaN</td>\n",
       "      <td>4TH AVE BETWEEN SENECA ST AND UNIVERSITY ST</td>\n",
       "      <td>NaN</td>\n",
       "      <td>NaN</td>\n",
       "      <td>1</td>\n",
       "      <td>Property Damage Only Collision</td>\n",
       "      <td>Parked Car</td>\n",
       "      <td>4</td>\n",
       "      <td>0</td>\n",
       "      <td>0</td>\n",
       "      <td>3</td>\n",
       "      <td>2004/11/18 00:00:00+00</td>\n",
       "      <td>11/18/2004 10:20:00 AM</td>\n",
       "      <td>Mid-Block (not related to intersection)</td>\n",
       "      <td>14</td>\n",
       "      <td>MOTOR VEHICLE STRUCK MOTOR VEHICLE, REAR END</td>\n",
       "      <td>NaN</td>\n",
       "      <td>0</td>\n",
       "      <td>Overcast</td>\n",
       "      <td>Dry</td>\n",
       "      <td>Daylight</td>\n",
       "      <td>NaN</td>\n",
       "      <td>4323031.0</td>\n",
       "      <td>NaN</td>\n",
       "      <td>32</td>\n",
       "      <td>One parked--one moving</td>\n",
       "      <td>0</td>\n",
       "      <td>0</td>\n",
       "      <td>N</td>\n",
       "    </tr>\n",
       "    <tr>\n",
       "      <th>3</th>\n",
       "      <td>1</td>\n",
       "      <td>-122.334803</td>\n",
       "      <td>47.604803</td>\n",
       "      <td>4</td>\n",
       "      <td>1144</td>\n",
       "      <td>1144</td>\n",
       "      <td>3503937</td>\n",
       "      <td>Matched</td>\n",
       "      <td>Block</td>\n",
       "      <td>NaN</td>\n",
       "      <td>2ND AVE BETWEEN MARION ST AND MADISON ST</td>\n",
       "      <td></td>\n",
       "      <td>NaN</td>\n",
       "      <td>1</td>\n",
       "      <td>Property Damage Only Collision</td>\n",
       "      <td>Other</td>\n",
       "      <td>3</td>\n",
       "      <td>0</td>\n",
       "      <td>0</td>\n",
       "      <td>3</td>\n",
       "      <td>2013/03/29 00:00:00+00</td>\n",
       "      <td>3/29/2013 9:26:00 AM</td>\n",
       "      <td>Mid-Block (not related to intersection)</td>\n",
       "      <td>11</td>\n",
       "      <td>MOTOR VEHICLE STRUCK MOTOR VEHICLE, FRONT END ...</td>\n",
       "      <td>NaN</td>\n",
       "      <td>N</td>\n",
       "      <td>Clear</td>\n",
       "      <td>Dry</td>\n",
       "      <td>Daylight</td>\n",
       "      <td>NaN</td>\n",
       "      <td>NaN</td>\n",
       "      <td>NaN</td>\n",
       "      <td>23</td>\n",
       "      <td>From same direction - all others</td>\n",
       "      <td>0</td>\n",
       "      <td>0</td>\n",
       "      <td>N</td>\n",
       "    </tr>\n",
       "    <tr>\n",
       "      <th>4</th>\n",
       "      <td>2</td>\n",
       "      <td>-122.306426</td>\n",
       "      <td>47.545739</td>\n",
       "      <td>5</td>\n",
       "      <td>17700</td>\n",
       "      <td>17700</td>\n",
       "      <td>1807429</td>\n",
       "      <td>Matched</td>\n",
       "      <td>Intersection</td>\n",
       "      <td>34387.0</td>\n",
       "      <td>SWIFT AVE S AND SWIFT AV OFF RP</td>\n",
       "      <td>NaN</td>\n",
       "      <td>NaN</td>\n",
       "      <td>2</td>\n",
       "      <td>Injury Collision</td>\n",
       "      <td>Angles</td>\n",
       "      <td>2</td>\n",
       "      <td>0</td>\n",
       "      <td>0</td>\n",
       "      <td>2</td>\n",
       "      <td>2004/01/28 00:00:00+00</td>\n",
       "      <td>1/28/2004 8:04:00 AM</td>\n",
       "      <td>At Intersection (intersection related)</td>\n",
       "      <td>11</td>\n",
       "      <td>MOTOR VEHICLE STRUCK MOTOR VEHICLE, FRONT END ...</td>\n",
       "      <td>NaN</td>\n",
       "      <td>0</td>\n",
       "      <td>Raining</td>\n",
       "      <td>Wet</td>\n",
       "      <td>Daylight</td>\n",
       "      <td>NaN</td>\n",
       "      <td>4028032.0</td>\n",
       "      <td>NaN</td>\n",
       "      <td>10</td>\n",
       "      <td>Entering at angle</td>\n",
       "      <td>0</td>\n",
       "      <td>0</td>\n",
       "      <td>N</td>\n",
       "    </tr>\n",
       "    <tr>\n",
       "      <th>...</th>\n",
       "      <td>...</td>\n",
       "      <td>...</td>\n",
       "      <td>...</td>\n",
       "      <td>...</td>\n",
       "      <td>...</td>\n",
       "      <td>...</td>\n",
       "      <td>...</td>\n",
       "      <td>...</td>\n",
       "      <td>...</td>\n",
       "      <td>...</td>\n",
       "      <td>...</td>\n",
       "      <td>...</td>\n",
       "      <td>...</td>\n",
       "      <td>...</td>\n",
       "      <td>...</td>\n",
       "      <td>...</td>\n",
       "      <td>...</td>\n",
       "      <td>...</td>\n",
       "      <td>...</td>\n",
       "      <td>...</td>\n",
       "      <td>...</td>\n",
       "      <td>...</td>\n",
       "      <td>...</td>\n",
       "      <td>...</td>\n",
       "      <td>...</td>\n",
       "      <td>...</td>\n",
       "      <td>...</td>\n",
       "      <td>...</td>\n",
       "      <td>...</td>\n",
       "      <td>...</td>\n",
       "      <td>...</td>\n",
       "      <td>...</td>\n",
       "      <td>...</td>\n",
       "      <td>...</td>\n",
       "      <td>...</td>\n",
       "      <td>...</td>\n",
       "      <td>...</td>\n",
       "      <td>...</td>\n",
       "    </tr>\n",
       "    <tr>\n",
       "      <th>194668</th>\n",
       "      <td>2</td>\n",
       "      <td>-122.290826</td>\n",
       "      <td>47.565408</td>\n",
       "      <td>219543</td>\n",
       "      <td>309534</td>\n",
       "      <td>310814</td>\n",
       "      <td>E871089</td>\n",
       "      <td>Matched</td>\n",
       "      <td>Block</td>\n",
       "      <td>NaN</td>\n",
       "      <td>34TH AVE S BETWEEN S DAKOTA ST AND S GENESEE ST</td>\n",
       "      <td></td>\n",
       "      <td>NaN</td>\n",
       "      <td>2</td>\n",
       "      <td>Injury Collision</td>\n",
       "      <td>Head On</td>\n",
       "      <td>3</td>\n",
       "      <td>0</td>\n",
       "      <td>0</td>\n",
       "      <td>2</td>\n",
       "      <td>2018/11/12 00:00:00+00</td>\n",
       "      <td>11/12/2018 8:12:00 AM</td>\n",
       "      <td>Mid-Block (not related to intersection)</td>\n",
       "      <td>11</td>\n",
       "      <td>MOTOR VEHICLE STRUCK MOTOR VEHICLE, FRONT END ...</td>\n",
       "      <td>NaN</td>\n",
       "      <td>N</td>\n",
       "      <td>Clear</td>\n",
       "      <td>Dry</td>\n",
       "      <td>Daylight</td>\n",
       "      <td>NaN</td>\n",
       "      <td>NaN</td>\n",
       "      <td>NaN</td>\n",
       "      <td>24</td>\n",
       "      <td>From opposite direction - both moving - head-on</td>\n",
       "      <td>0</td>\n",
       "      <td>0</td>\n",
       "      <td>N</td>\n",
       "    </tr>\n",
       "    <tr>\n",
       "      <th>194669</th>\n",
       "      <td>1</td>\n",
       "      <td>-122.344526</td>\n",
       "      <td>47.690924</td>\n",
       "      <td>219544</td>\n",
       "      <td>309085</td>\n",
       "      <td>310365</td>\n",
       "      <td>E876731</td>\n",
       "      <td>Matched</td>\n",
       "      <td>Block</td>\n",
       "      <td>NaN</td>\n",
       "      <td>AURORA AVE N BETWEEN N 85TH ST AND N 86TH ST</td>\n",
       "      <td></td>\n",
       "      <td>NaN</td>\n",
       "      <td>1</td>\n",
       "      <td>Property Damage Only Collision</td>\n",
       "      <td>Rear Ended</td>\n",
       "      <td>2</td>\n",
       "      <td>0</td>\n",
       "      <td>0</td>\n",
       "      <td>2</td>\n",
       "      <td>2018/12/18 00:00:00+00</td>\n",
       "      <td>12/18/2018 9:14:00 AM</td>\n",
       "      <td>Mid-Block (not related to intersection)</td>\n",
       "      <td>14</td>\n",
       "      <td>MOTOR VEHICLE STRUCK MOTOR VEHICLE, REAR END</td>\n",
       "      <td>Y</td>\n",
       "      <td>N</td>\n",
       "      <td>Raining</td>\n",
       "      <td>Wet</td>\n",
       "      <td>Daylight</td>\n",
       "      <td>NaN</td>\n",
       "      <td>NaN</td>\n",
       "      <td>NaN</td>\n",
       "      <td>13</td>\n",
       "      <td>From same direction - both going straight - bo...</td>\n",
       "      <td>0</td>\n",
       "      <td>0</td>\n",
       "      <td>N</td>\n",
       "    </tr>\n",
       "    <tr>\n",
       "      <th>194670</th>\n",
       "      <td>2</td>\n",
       "      <td>-122.306689</td>\n",
       "      <td>47.683047</td>\n",
       "      <td>219545</td>\n",
       "      <td>311280</td>\n",
       "      <td>312640</td>\n",
       "      <td>3809984</td>\n",
       "      <td>Matched</td>\n",
       "      <td>Intersection</td>\n",
       "      <td>24760.0</td>\n",
       "      <td>20TH AVE NE AND NE 75TH ST</td>\n",
       "      <td></td>\n",
       "      <td>NaN</td>\n",
       "      <td>2</td>\n",
       "      <td>Injury Collision</td>\n",
       "      <td>Left Turn</td>\n",
       "      <td>3</td>\n",
       "      <td>0</td>\n",
       "      <td>0</td>\n",
       "      <td>2</td>\n",
       "      <td>2019/01/19 00:00:00+00</td>\n",
       "      <td>1/19/2019 9:25:00 AM</td>\n",
       "      <td>At Intersection (intersection related)</td>\n",
       "      <td>11</td>\n",
       "      <td>MOTOR VEHICLE STRUCK MOTOR VEHICLE, FRONT END ...</td>\n",
       "      <td>NaN</td>\n",
       "      <td>N</td>\n",
       "      <td>Clear</td>\n",
       "      <td>Dry</td>\n",
       "      <td>Daylight</td>\n",
       "      <td>NaN</td>\n",
       "      <td>NaN</td>\n",
       "      <td>NaN</td>\n",
       "      <td>28</td>\n",
       "      <td>From opposite direction - one left turn - one ...</td>\n",
       "      <td>0</td>\n",
       "      <td>0</td>\n",
       "      <td>N</td>\n",
       "    </tr>\n",
       "    <tr>\n",
       "      <th>194671</th>\n",
       "      <td>2</td>\n",
       "      <td>-122.355317</td>\n",
       "      <td>47.678734</td>\n",
       "      <td>219546</td>\n",
       "      <td>309514</td>\n",
       "      <td>310794</td>\n",
       "      <td>3810083</td>\n",
       "      <td>Matched</td>\n",
       "      <td>Intersection</td>\n",
       "      <td>24349.0</td>\n",
       "      <td>GREENWOOD AVE N AND N 68TH ST</td>\n",
       "      <td></td>\n",
       "      <td>NaN</td>\n",
       "      <td>2</td>\n",
       "      <td>Injury Collision</td>\n",
       "      <td>Cycles</td>\n",
       "      <td>2</td>\n",
       "      <td>0</td>\n",
       "      <td>1</td>\n",
       "      <td>1</td>\n",
       "      <td>2019/01/15 00:00:00+00</td>\n",
       "      <td>1/15/2019 4:48:00 PM</td>\n",
       "      <td>At Intersection (intersection related)</td>\n",
       "      <td>51</td>\n",
       "      <td>PEDALCYCLIST STRUCK MOTOR VEHICLE FRONT END AT...</td>\n",
       "      <td>NaN</td>\n",
       "      <td>N</td>\n",
       "      <td>Clear</td>\n",
       "      <td>Dry</td>\n",
       "      <td>Dusk</td>\n",
       "      <td>NaN</td>\n",
       "      <td>NaN</td>\n",
       "      <td>NaN</td>\n",
       "      <td>5</td>\n",
       "      <td>Vehicle Strikes Pedalcyclist</td>\n",
       "      <td>4308</td>\n",
       "      <td>0</td>\n",
       "      <td>N</td>\n",
       "    </tr>\n",
       "    <tr>\n",
       "      <th>194672</th>\n",
       "      <td>1</td>\n",
       "      <td>-122.289360</td>\n",
       "      <td>47.611017</td>\n",
       "      <td>219547</td>\n",
       "      <td>308220</td>\n",
       "      <td>309500</td>\n",
       "      <td>E868008</td>\n",
       "      <td>Matched</td>\n",
       "      <td>Block</td>\n",
       "      <td>NaN</td>\n",
       "      <td>34TH AVE BETWEEN E MARION ST AND E SPRING ST</td>\n",
       "      <td></td>\n",
       "      <td>NaN</td>\n",
       "      <td>1</td>\n",
       "      <td>Property Damage Only Collision</td>\n",
       "      <td>Rear Ended</td>\n",
       "      <td>2</td>\n",
       "      <td>0</td>\n",
       "      <td>0</td>\n",
       "      <td>2</td>\n",
       "      <td>2018/11/30 00:00:00+00</td>\n",
       "      <td>11/30/2018 3:45:00 PM</td>\n",
       "      <td>Mid-Block (not related to intersection)</td>\n",
       "      <td>14</td>\n",
       "      <td>MOTOR VEHICLE STRUCK MOTOR VEHICLE, REAR END</td>\n",
       "      <td>NaN</td>\n",
       "      <td>N</td>\n",
       "      <td>Clear</td>\n",
       "      <td>Wet</td>\n",
       "      <td>Daylight</td>\n",
       "      <td>NaN</td>\n",
       "      <td>NaN</td>\n",
       "      <td>NaN</td>\n",
       "      <td>14</td>\n",
       "      <td>From same direction - both going straight - on...</td>\n",
       "      <td>0</td>\n",
       "      <td>0</td>\n",
       "      <td>N</td>\n",
       "    </tr>\n",
       "  </tbody>\n",
       "</table>\n",
       "<p>194673 rows × 38 columns</p>\n",
       "</div>"
      ],
      "text/plain": [
       "        SEVERITYCODE           X  ...  CROSSWALKKEY  HITPARKEDCAR\n",
       "0                  2 -122.323148  ...             0             N\n",
       "1                  1 -122.347294  ...             0             N\n",
       "2                  1 -122.334540  ...             0             N\n",
       "3                  1 -122.334803  ...             0             N\n",
       "4                  2 -122.306426  ...             0             N\n",
       "...              ...         ...  ...           ...           ...\n",
       "194668             2 -122.290826  ...             0             N\n",
       "194669             1 -122.344526  ...             0             N\n",
       "194670             2 -122.306689  ...             0             N\n",
       "194671             2 -122.355317  ...             0             N\n",
       "194672             1 -122.289360  ...             0             N\n",
       "\n",
       "[194673 rows x 38 columns]"
      ]
     },
     "execution_count": 138,
     "metadata": {
      "tags": []
     },
     "output_type": "execute_result"
    }
   ],
   "source": [
    "data"
   ]
  },
  {
   "cell_type": "markdown",
   "metadata": {
    "colab_type": "text",
    "id": "PI6iGzgqJLxY"
   },
   "source": [
    "#### Balancing the Imbalanced Dataset - Downsampling"
   ]
  },
  {
   "cell_type": "code",
   "execution_count": null,
   "metadata": {
    "colab": {
     "base_uri": "https://localhost:8080/",
     "height": 513
    },
    "colab_type": "code",
    "id": "2lK5NBR4Q71J",
    "outputId": "7baf37b2-d1c6-483f-ed4d-a813ace4bec8"
   },
   "outputs": [
    {
     "data": {
      "image/png": "[encoded data removed]",
      "text/plain": [
       "<Figure size 576x576 with 1 Axes>"
      ]
     },
     "metadata": {
      "needs_background": "light",
      "tags": []
     },
     "output_type": "display_data"
    }
   ],
   "source": [
    "import matplotlib.pyplot as plt\n",
    "import seaborn as sns\n",
    "import pandas.util.testing as tm\n",
    "\n",
    "plt.figure(figsize=(8, 8))\n",
    "sns.countplot('SEVERITYCODE', data = data)\n",
    "plt.title('Imbalanced Classes')\n",
    "plt.show()"
   ]
  },
  {
   "cell_type": "code",
   "execution_count": null,
   "metadata": {
    "colab": {
     "base_uri": "https://localhost:8080/",
     "height": 70
    },
    "colab_type": "code",
    "id": "gJfUDlrQJJpB",
    "outputId": "73a649eb-55de-4b85-d38f-ce423990da73"
   },
   "outputs": [
    {
     "data": {
      "text/plain": [
       "1    136485\n",
       "2     58188\n",
       "Name: SEVERITYCODE, dtype: int64"
      ]
     },
     "execution_count": 140,
     "metadata": {
      "tags": []
     },
     "output_type": "execute_result"
    }
   ],
   "source": [
    "data['SEVERITYCODE'].value_counts()"
   ]
  },
  {
   "cell_type": "markdown",
   "metadata": {
    "colab_type": "text",
    "id": "pzxr_TarJjJJ"
   },
   "source": [
    "It can be seen that the data according to the target classes is highly imbalanced."
   ]
  },
  {
   "cell_type": "code",
   "execution_count": null,
   "metadata": {
    "colab": {
     "base_uri": "https://localhost:8080/",
     "height": 513
    },
    "colab_type": "code",
    "id": "d_4GoJKvJegF",
    "outputId": "2292f995-47f3-4da2-e708-b0e9ed3d9aa4"
   },
   "outputs": [
    {
     "data": {
      "image/png": "[encoded data removed]",
      "text/plain": [
       "<Figure size 576x576 with 1 Axes>"
      ]
     },
     "metadata": {
      "needs_background": "light",
      "tags": []
     },
     "output_type": "display_data"
    }
   ],
   "source": [
    "import matplotlib.pyplot as plt\n",
    "import seaborn as sns\n",
    "\n",
    "shuffled_data = data.sample(frac=1,random_state=4)\n",
    "\n",
    "\n",
    "class2 = shuffled_data.loc[shuffled_data['SEVERITYCODE'] == 2]\n",
    "class1 = shuffled_data.loc[shuffled_data['SEVERITYCODE'] == 1].sample(n=58188,random_state=4)\n",
    "\n",
    "data = pd.concat([class1, class2])\n",
    "\n",
    "plt.figure(figsize=(8, 8))\n",
    "sns.countplot('SEVERITYCODE', data = data)\n",
    "plt.title('Balanced Classes')\n",
    "plt.show()"
   ]
  },
  {
   "cell_type": "markdown",
   "metadata": {
    "colab_type": "text",
    "id": "uZIAXz3t_3dT"
   },
   "source": [
    "#### Separating the Severity labels from the dataset"
   ]
  },
  {
   "cell_type": "code",
   "execution_count": null,
   "metadata": {
    "colab": {},
    "colab_type": "code",
    "id": "ym505g6y_3dU"
   },
   "outputs": [],
   "source": [
    "labels = pd.DataFrame(data[\"SEVERITYCODE\"])"
   ]
  },
  {
   "cell_type": "code",
   "execution_count": null,
   "metadata": {
    "colab": {
     "base_uri": "https://localhost:8080/",
     "height": 70
    },
    "colab_type": "code",
    "id": "QzX96gFh_3dY",
    "outputId": "4a49929e-8f4a-4963-b98b-efdb8634f889"
   },
   "outputs": [
    {
     "data": {
      "text/plain": [
       "2    58188\n",
       "1    58188\n",
       "Name: SEVERITYCODE, dtype: int64"
      ]
     },
     "execution_count": 143,
     "metadata": {
      "tags": []
     },
     "output_type": "execute_result"
    }
   ],
   "source": [
    "labels['SEVERITYCODE'].value_counts()"
   ]
  },
  {
   "cell_type": "markdown",
   "metadata": {
    "colab_type": "text",
    "id": "XSVAE5Wu_3dc"
   },
   "source": [
    "#### This is a binary class problem i.e. Severity has only 2 values - '1' represents that low severity and '2' represents high severity.\n",
    "#### The labels of the dataset are now balanced. It is now a balanced dataset.\n"
   ]
  },
  {
   "cell_type": "code",
   "execution_count": null,
   "metadata": {
    "colab": {},
    "colab_type": "code",
    "id": "0vyi5O_a_3dd"
   },
   "outputs": [],
   "source": [
    "data = data.drop(['SEVERITYCODE'],axis = 1)"
   ]
  },
  {
   "cell_type": "code",
   "execution_count": null,
   "metadata": {
    "colab": {
     "base_uri": "https://localhost:8080/",
     "height": 714
    },
    "colab_type": "code",
    "id": "gNv4tcCU_3dg",
    "outputId": "1830e027-0c92-4755-f616-7e8a8d0f80ff"
   },
   "outputs": [
    {
     "data": {
      "text/html": [
       "<div>\n",
       "<style scoped>\n",
       "    .dataframe tbody tr th:only-of-type {\n",
       "        vertical-align: middle;\n",
       "    }\n",
       "\n",
       "    .dataframe tbody tr th {\n",
       "        vertical-align: top;\n",
       "    }\n",
       "\n",
       "    .dataframe thead th {\n",
       "        text-align: right;\n",
       "    }\n",
       "</style>\n",
       "<table border=\"1\" class=\"dataframe\">\n",
       "  <thead>\n",
       "    <tr style=\"text-align: right;\">\n",
       "      <th></th>\n",
       "      <th>X</th>\n",
       "      <th>Y</th>\n",
       "      <th>OBJECTID</th>\n",
       "      <th>INCKEY</th>\n",
       "      <th>COLDETKEY</th>\n",
       "      <th>REPORTNO</th>\n",
       "      <th>STATUS</th>\n",
       "      <th>ADDRTYPE</th>\n",
       "      <th>INTKEY</th>\n",
       "      <th>LOCATION</th>\n",
       "      <th>EXCEPTRSNCODE</th>\n",
       "      <th>EXCEPTRSNDESC</th>\n",
       "      <th>SEVERITYCODE.1</th>\n",
       "      <th>SEVERITYDESC</th>\n",
       "      <th>COLLISIONTYPE</th>\n",
       "      <th>PERSONCOUNT</th>\n",
       "      <th>PEDCOUNT</th>\n",
       "      <th>PEDCYLCOUNT</th>\n",
       "      <th>VEHCOUNT</th>\n",
       "      <th>INCDATE</th>\n",
       "      <th>INCDTTM</th>\n",
       "      <th>JUNCTIONTYPE</th>\n",
       "      <th>SDOT_COLCODE</th>\n",
       "      <th>SDOT_COLDESC</th>\n",
       "      <th>INATTENTIONIND</th>\n",
       "      <th>UNDERINFL</th>\n",
       "      <th>WEATHER</th>\n",
       "      <th>ROADCOND</th>\n",
       "      <th>LIGHTCOND</th>\n",
       "      <th>PEDROWNOTGRNT</th>\n",
       "      <th>SDOTCOLNUM</th>\n",
       "      <th>SPEEDING</th>\n",
       "      <th>ST_COLCODE</th>\n",
       "      <th>ST_COLDESC</th>\n",
       "      <th>SEGLANEKEY</th>\n",
       "      <th>CROSSWALKKEY</th>\n",
       "      <th>HITPARKEDCAR</th>\n",
       "    </tr>\n",
       "  </thead>\n",
       "  <tbody>\n",
       "    <tr>\n",
       "      <th>86800</th>\n",
       "      <td>-122.313130</td>\n",
       "      <td>47.661269</td>\n",
       "      <td>95137</td>\n",
       "      <td>109930</td>\n",
       "      <td>109930</td>\n",
       "      <td>3376549</td>\n",
       "      <td>Matched</td>\n",
       "      <td>Intersection</td>\n",
       "      <td>27062.0</td>\n",
       "      <td>UNIVERSITY WAY NE AND NE 45TH ST</td>\n",
       "      <td>NaN</td>\n",
       "      <td>NaN</td>\n",
       "      <td>1</td>\n",
       "      <td>Property Damage Only Collision</td>\n",
       "      <td>Right Turn</td>\n",
       "      <td>2</td>\n",
       "      <td>0</td>\n",
       "      <td>0</td>\n",
       "      <td>2</td>\n",
       "      <td>2010/06/26 00:00:00+00</td>\n",
       "      <td>6/26/2010 1:52:00 PM</td>\n",
       "      <td>At Intersection (intersection related)</td>\n",
       "      <td>14</td>\n",
       "      <td>MOTOR VEHICLE STRUCK MOTOR VEHICLE, REAR END</td>\n",
       "      <td>NaN</td>\n",
       "      <td>N</td>\n",
       "      <td>Clear</td>\n",
       "      <td>Dry</td>\n",
       "      <td>Daylight</td>\n",
       "      <td>NaN</td>\n",
       "      <td>10177008.0</td>\n",
       "      <td>NaN</td>\n",
       "      <td>16</td>\n",
       "      <td>From same direction - one right turn - one str...</td>\n",
       "      <td>0</td>\n",
       "      <td>0</td>\n",
       "      <td>N</td>\n",
       "    </tr>\n",
       "    <tr>\n",
       "      <th>181357</th>\n",
       "      <td>-122.346301</td>\n",
       "      <td>47.609994</td>\n",
       "      <td>203813</td>\n",
       "      <td>328295</td>\n",
       "      <td>329795</td>\n",
       "      <td>EA08096</td>\n",
       "      <td>Matched</td>\n",
       "      <td>Intersection</td>\n",
       "      <td>29724.0</td>\n",
       "      <td>ALASKAN WAY AND LENORA ST</td>\n",
       "      <td></td>\n",
       "      <td>NaN</td>\n",
       "      <td>1</td>\n",
       "      <td>Property Damage Only Collision</td>\n",
       "      <td>Angles</td>\n",
       "      <td>4</td>\n",
       "      <td>0</td>\n",
       "      <td>0</td>\n",
       "      <td>2</td>\n",
       "      <td>2020/01/21 00:00:00+00</td>\n",
       "      <td>1/21/2020 9:16:00 AM</td>\n",
       "      <td>At Intersection (intersection related)</td>\n",
       "      <td>11</td>\n",
       "      <td>MOTOR VEHICLE STRUCK MOTOR VEHICLE, FRONT END ...</td>\n",
       "      <td>NaN</td>\n",
       "      <td>N</td>\n",
       "      <td>Overcast</td>\n",
       "      <td>Wet</td>\n",
       "      <td>Daylight</td>\n",
       "      <td>NaN</td>\n",
       "      <td>NaN</td>\n",
       "      <td>NaN</td>\n",
       "      <td>10</td>\n",
       "      <td>Entering at angle</td>\n",
       "      <td>0</td>\n",
       "      <td>0</td>\n",
       "      <td>N</td>\n",
       "    </tr>\n",
       "    <tr>\n",
       "      <th>33868</th>\n",
       "      <td>-122.258894</td>\n",
       "      <td>47.506122</td>\n",
       "      <td>38878</td>\n",
       "      <td>52828</td>\n",
       "      <td>52828</td>\n",
       "      <td>2616106</td>\n",
       "      <td>Matched</td>\n",
       "      <td>Block</td>\n",
       "      <td>NaN</td>\n",
       "      <td>S BANGOR ST BETWEEN 59TH AVE S AND 60TH AVE S</td>\n",
       "      <td>NaN</td>\n",
       "      <td>NaN</td>\n",
       "      <td>1</td>\n",
       "      <td>Property Damage Only Collision</td>\n",
       "      <td>Parked Car</td>\n",
       "      <td>2</td>\n",
       "      <td>0</td>\n",
       "      <td>0</td>\n",
       "      <td>2</td>\n",
       "      <td>2006/12/25 00:00:00+00</td>\n",
       "      <td>12/25/2006 11:13:00 PM</td>\n",
       "      <td>Mid-Block (not related to intersection)</td>\n",
       "      <td>11</td>\n",
       "      <td>MOTOR VEHICLE STRUCK MOTOR VEHICLE, FRONT END ...</td>\n",
       "      <td>NaN</td>\n",
       "      <td>0</td>\n",
       "      <td>Clear</td>\n",
       "      <td>Dry</td>\n",
       "      <td>Daylight</td>\n",
       "      <td>NaN</td>\n",
       "      <td>6359004.0</td>\n",
       "      <td>NaN</td>\n",
       "      <td>32</td>\n",
       "      <td>One parked--one moving</td>\n",
       "      <td>0</td>\n",
       "      <td>0</td>\n",
       "      <td>N</td>\n",
       "    </tr>\n",
       "    <tr>\n",
       "      <th>92209</th>\n",
       "      <td>-122.342878</td>\n",
       "      <td>47.609812</td>\n",
       "      <td>101111</td>\n",
       "      <td>116369</td>\n",
       "      <td>116369</td>\n",
       "      <td>3345929</td>\n",
       "      <td>Matched</td>\n",
       "      <td>Block</td>\n",
       "      <td>NaN</td>\n",
       "      <td>WESTERN AVE BETWEEN PINE ST AND VIRGINIA ST</td>\n",
       "      <td>NaN</td>\n",
       "      <td>NaN</td>\n",
       "      <td>1</td>\n",
       "      <td>Property Damage Only Collision</td>\n",
       "      <td>Parked Car</td>\n",
       "      <td>2</td>\n",
       "      <td>0</td>\n",
       "      <td>0</td>\n",
       "      <td>2</td>\n",
       "      <td>2010/05/09 00:00:00+00</td>\n",
       "      <td>5/9/2010 2:00:00 PM</td>\n",
       "      <td>Mid-Block (not related to intersection)</td>\n",
       "      <td>11</td>\n",
       "      <td>MOTOR VEHICLE STRUCK MOTOR VEHICLE, FRONT END ...</td>\n",
       "      <td>NaN</td>\n",
       "      <td>N</td>\n",
       "      <td>Clear</td>\n",
       "      <td>Dry</td>\n",
       "      <td>Daylight</td>\n",
       "      <td>NaN</td>\n",
       "      <td>10129022.0</td>\n",
       "      <td>NaN</td>\n",
       "      <td>32</td>\n",
       "      <td>One parked--one moving</td>\n",
       "      <td>0</td>\n",
       "      <td>0</td>\n",
       "      <td>N</td>\n",
       "    </tr>\n",
       "    <tr>\n",
       "      <th>48038</th>\n",
       "      <td>-122.314286</td>\n",
       "      <td>47.661277</td>\n",
       "      <td>53609</td>\n",
       "      <td>68346</td>\n",
       "      <td>68346</td>\n",
       "      <td>2802679</td>\n",
       "      <td>Matched</td>\n",
       "      <td>Intersection</td>\n",
       "      <td>27063.0</td>\n",
       "      <td>BROOKLYN AVE NE AND NE 45TH ST</td>\n",
       "      <td>NaN</td>\n",
       "      <td>NaN</td>\n",
       "      <td>1</td>\n",
       "      <td>Property Damage Only Collision</td>\n",
       "      <td>Angles</td>\n",
       "      <td>5</td>\n",
       "      <td>0</td>\n",
       "      <td>0</td>\n",
       "      <td>3</td>\n",
       "      <td>2007/03/16 00:00:00+00</td>\n",
       "      <td>3/16/2007 10:30:00 PM</td>\n",
       "      <td>At Intersection (intersection related)</td>\n",
       "      <td>11</td>\n",
       "      <td>MOTOR VEHICLE STRUCK MOTOR VEHICLE, FRONT END ...</td>\n",
       "      <td>NaN</td>\n",
       "      <td>1</td>\n",
       "      <td>Clear</td>\n",
       "      <td>Dry</td>\n",
       "      <td>Dark - Street Lights On</td>\n",
       "      <td>NaN</td>\n",
       "      <td>7075025.0</td>\n",
       "      <td>NaN</td>\n",
       "      <td>10</td>\n",
       "      <td>Entering at angle</td>\n",
       "      <td>0</td>\n",
       "      <td>0</td>\n",
       "      <td>N</td>\n",
       "    </tr>\n",
       "  </tbody>\n",
       "</table>\n",
       "</div>"
      ],
      "text/plain": [
       "                 X          Y  OBJECTID  ...  SEGLANEKEY  CROSSWALKKEY HITPARKEDCAR\n",
       "86800  -122.313130  47.661269     95137  ...           0             0            N\n",
       "181357 -122.346301  47.609994    203813  ...           0             0            N\n",
       "33868  -122.258894  47.506122     38878  ...           0             0            N\n",
       "92209  -122.342878  47.609812    101111  ...           0             0            N\n",
       "48038  -122.314286  47.661277     53609  ...           0             0            N\n",
       "\n",
       "[5 rows x 37 columns]"
      ]
     },
     "execution_count": 145,
     "metadata": {
      "tags": []
     },
     "output_type": "execute_result"
    }
   ],
   "source": [
    "data.head()"
   ]
  },
  {
   "cell_type": "markdown",
   "metadata": {
    "colab_type": "text",
    "id": "mAHXBDG9_3di"
   },
   "source": [
    "## Data Preprocessing "
   ]
  },
  {
   "cell_type": "markdown",
   "metadata": {
    "colab_type": "text",
    "id": "D-M-i88e_3di"
   },
   "source": [
    "### 1. Data Cleaning "
   ]
  },
  {
   "cell_type": "markdown",
   "metadata": {
    "colab_type": "text",
    "id": "U4N812Tv_3dj"
   },
   "source": [
    "It can be observed that some of the features have many 'NaN' values which need to be replaced with a meaningful value so as to not lose the feature as a meaningless feature."
   ]
  },
  {
   "cell_type": "markdown",
   "metadata": {
    "colab_type": "text",
    "id": "OUieEas__3dj"
   },
   "source": [
    "#### a. 'Speeding' feature/attribute"
   ]
  },
  {
   "cell_type": "code",
   "execution_count": null,
   "metadata": {
    "colab": {
     "base_uri": "https://localhost:8080/",
     "height": 52
    },
    "colab_type": "code",
    "id": "3EcXPH1C_3dj",
    "outputId": "bbc74616-64ef-4d29-c165-2c3ca0dbc399"
   },
   "outputs": [
    {
     "data": {
      "text/plain": [
       "Y    5925\n",
       "Name: SPEEDING, dtype: int64"
      ]
     },
     "execution_count": 146,
     "metadata": {
      "tags": []
     },
     "output_type": "execute_result"
    }
   ],
   "source": [
    "data['SPEEDING'].value_counts()"
   ]
  },
  {
   "cell_type": "code",
   "execution_count": null,
   "metadata": {
    "colab": {},
    "colab_type": "code",
    "id": "loRNYN2p_3dm"
   },
   "outputs": [],
   "source": [
    "data['SPEEDING'].fillna(\"N\", inplace = True)"
   ]
  },
  {
   "cell_type": "code",
   "execution_count": null,
   "metadata": {
    "colab": {
     "base_uri": "https://localhost:8080/",
     "height": 70
    },
    "colab_type": "code",
    "id": "7Gw_ZfLB_3do",
    "outputId": "2dd8737d-47b2-47f7-9756-42d394fd5bb2"
   },
   "outputs": [
    {
     "data": {
      "text/plain": [
       "N    110451\n",
       "Y      5925\n",
       "Name: SPEEDING, dtype: int64"
      ]
     },
     "execution_count": 148,
     "metadata": {
      "tags": []
     },
     "output_type": "execute_result"
    }
   ],
   "source": [
    "data['SPEEDING'].value_counts()"
   ]
  },
  {
   "cell_type": "markdown",
   "metadata": {
    "colab_type": "text",
    "id": "owSyjEMQ_3dq"
   },
   "source": [
    "'Y' represents that Speeding was a factor in the collision while 'N' represents that Speeding was not a factor."
   ]
  },
  {
   "cell_type": "code",
   "execution_count": null,
   "metadata": {
    "colab": {
     "base_uri": "https://localhost:8080/",
     "height": 347
    },
    "colab_type": "code",
    "id": "wvMCOCMqzd5A",
    "outputId": "3224d88a-7f0e-4a64-a890-fd02782a54b4"
   },
   "outputs": [
    {
     "data": {
      "image/png": "[encoded data removed]",
      "text/plain": [
       "<Figure size 720x360 with 1 Axes>"
      ]
     },
     "metadata": {
      "needs_background": "light",
      "tags": []
     },
     "output_type": "display_data"
    }
   ],
   "source": [
    "data['SPEEDING'].value_counts().nlargest(40).plot(kind='bar', figsize=(10,5))\n",
    "plt.title('Speeding')\n",
    "plt.ylabel('Number of instances')\n",
    "plt.xlabel('Speeding (Yes or No)');"
   ]
  },
  {
   "cell_type": "markdown",
   "metadata": {
    "colab_type": "text",
    "id": "0EF3GOSM_3dq"
   },
   "source": [
    "#### b. Road Condition 'ROADCOND' Feature"
   ]
  },
  {
   "cell_type": "code",
   "execution_count": null,
   "metadata": {
    "colab": {
     "base_uri": "https://localhost:8080/",
     "height": 195
    },
    "colab_type": "code",
    "id": "mmtg2x3M_3dq",
    "outputId": "74265a45-2eab-4bb7-949b-1f71bf8e8d2f"
   },
   "outputs": [
    {
     "data": {
      "text/plain": [
       "Dry               76177\n",
       "Wet               29186\n",
       "Unknown            6881\n",
       "Ice                 660\n",
       "Snow/Slush          513\n",
       "Other                84\n",
       "Standing Water       71\n",
       "Sand/Mud/Dirt        45\n",
       "Oil                  43\n",
       "Name: ROADCOND, dtype: int64"
      ]
     },
     "execution_count": 150,
     "metadata": {
      "tags": []
     },
     "output_type": "execute_result"
    }
   ],
   "source": [
    "data['ROADCOND'].value_counts()"
   ]
  },
  {
   "cell_type": "code",
   "execution_count": null,
   "metadata": {
    "colab": {},
    "colab_type": "code",
    "id": "1betQUjM_3ds"
   },
   "outputs": [],
   "source": [
    "data['ROADCOND'].fillna(\"Unknown\", inplace = True)"
   ]
  },
  {
   "cell_type": "code",
   "execution_count": null,
   "metadata": {
    "colab": {
     "base_uri": "https://localhost:8080/",
     "height": 195
    },
    "colab_type": "code",
    "id": "BwDl_2m4_3du",
    "outputId": "62829a0a-d573-4d0f-8c99-c753f6e69fa9"
   },
   "outputs": [
    {
     "data": {
      "text/plain": [
       "Dry               76177\n",
       "Wet               29186\n",
       "Unknown            9597\n",
       "Ice                 660\n",
       "Snow/Slush          513\n",
       "Other                84\n",
       "Standing Water       71\n",
       "Sand/Mud/Dirt        45\n",
       "Oil                  43\n",
       "Name: ROADCOND, dtype: int64"
      ]
     },
     "execution_count": 152,
     "metadata": {
      "tags": []
     },
     "output_type": "execute_result"
    }
   ],
   "source": [
    "data['ROADCOND'].value_counts()"
   ]
  },
  {
   "cell_type": "markdown",
   "metadata": {
    "colab_type": "text",
    "id": "GsPCgm6R_3dx"
   },
   "source": [
    "Replacing 'NaN' values with 'Unknown' as value in 'ROADCOND' attribute."
   ]
  },
  {
   "cell_type": "code",
   "execution_count": null,
   "metadata": {
    "colab": {
     "base_uri": "https://localhost:8080/",
     "height": 417
    },
    "colab_type": "code",
    "id": "FRW_HFV1zRel",
    "outputId": "9da13982-28ab-44e1-e579-db979e54ce36"
   },
   "outputs": [
    {
     "data": {
      "image/png": "[encoded data removed]",
      "text/plain": [
       "<Figure size 720x360 with 1 Axes>"
      ]
     },
     "metadata": {
      "needs_background": "light",
      "tags": []
     },
     "output_type": "display_data"
    }
   ],
   "source": [
    "data['ROADCOND'].value_counts().nlargest(40).plot(kind='bar', figsize=(10,5))\n",
    "plt.title('Road Condition')\n",
    "plt.ylabel('Number of instances')\n",
    "plt.xlabel('Road Condition Type');"
   ]
  },
  {
   "cell_type": "markdown",
   "metadata": {
    "colab_type": "text",
    "id": "CX_GPDd5_3dy"
   },
   "source": [
    "#### c. Lighting Condition ('LIGHTCOND') Feature"
   ]
  },
  {
   "cell_type": "code",
   "execution_count": null,
   "metadata": {
    "colab": {
     "base_uri": "https://localhost:8080/",
     "height": 195
    },
    "colab_type": "code",
    "id": "3t_jRizI_3dy",
    "outputId": "716f26e9-9f56-4d1c-ab16-9ffddbb2d2c6"
   },
   "outputs": [
    {
     "data": {
      "text/plain": [
       "Daylight                    71727\n",
       "Dark - Street Lights On     28909\n",
       "Unknown                      6063\n",
       "Dusk                         3648\n",
       "Dawn                         1529\n",
       "Dark - No Street Lights       853\n",
       "Dark - Street Lights Off      703\n",
       "Other                         135\n",
       "Dark - Unknown Lighting         6\n",
       "Name: LIGHTCOND, dtype: int64"
      ]
     },
     "execution_count": 154,
     "metadata": {
      "tags": []
     },
     "output_type": "execute_result"
    }
   ],
   "source": [
    "data['LIGHTCOND'].value_counts()"
   ]
  },
  {
   "cell_type": "code",
   "execution_count": null,
   "metadata": {
    "colab": {
     "base_uri": "https://localhost:8080/",
     "height": 35
    },
    "colab_type": "code",
    "id": "fx906OnX_3d0",
    "outputId": "aa85dcfe-1673-4022-a9c2-119ea5042352"
   },
   "outputs": [
    {
     "data": {
      "text/plain": [
       "True"
      ]
     },
     "execution_count": 155,
     "metadata": {
      "tags": []
     },
     "output_type": "execute_result"
    }
   ],
   "source": [
    "data['LIGHTCOND'].isnull().values.any()"
   ]
  },
  {
   "cell_type": "code",
   "execution_count": null,
   "metadata": {
    "colab": {},
    "colab_type": "code",
    "id": "X2cTkt6I_3d2"
   },
   "outputs": [],
   "source": [
    "data['LIGHTCOND'].fillna(\"Unknown\", inplace = True)"
   ]
  },
  {
   "cell_type": "code",
   "execution_count": null,
   "metadata": {
    "colab": {
     "base_uri": "https://localhost:8080/",
     "height": 195
    },
    "colab_type": "code",
    "id": "o1R-rUda_3d3",
    "outputId": "19ebf26b-d3ea-49ff-e71a-b58e7fe19e3f"
   },
   "outputs": [
    {
     "data": {
      "text/plain": [
       "Daylight                    71727\n",
       "Dark - Street Lights On     28909\n",
       "Unknown                      8866\n",
       "Dusk                         3648\n",
       "Dawn                         1529\n",
       "Dark - No Street Lights       853\n",
       "Dark - Street Lights Off      703\n",
       "Other                         135\n",
       "Dark - Unknown Lighting         6\n",
       "Name: LIGHTCOND, dtype: int64"
      ]
     },
     "execution_count": 157,
     "metadata": {
      "tags": []
     },
     "output_type": "execute_result"
    }
   ],
   "source": [
    "data['LIGHTCOND'].value_counts()"
   ]
  },
  {
   "cell_type": "markdown",
   "metadata": {
    "colab_type": "text",
    "id": "sJGLD0-B_3d5"
   },
   "source": [
    "Replacing 'NaN' values with 'Unknown' as value in 'LIGHTCOND' attribute."
   ]
  },
  {
   "cell_type": "code",
   "execution_count": null,
   "metadata": {
    "colab": {
     "base_uri": "https://localhost:8080/",
     "height": 463
    },
    "colab_type": "code",
    "id": "1n1rZ1Gfy_KO",
    "outputId": "06e6d0bd-9aba-4c2a-e9da-c9eaf851a43c"
   },
   "outputs": [
    {
     "data": {
      "image/png": "[encoded data removed]",
      "text/plain": [
       "<Figure size 720x360 with 1 Axes>"
      ]
     },
     "metadata": {
      "needs_background": "light",
      "tags": []
     },
     "output_type": "display_data"
    }
   ],
   "source": [
    "data['LIGHTCOND'].value_counts().nlargest(40).plot(kind='bar', figsize=(10,5))\n",
    "plt.title('Light Condition')\n",
    "plt.ylabel('Number of instances')\n",
    "plt.xlabel('Light Condition Type');"
   ]
  },
  {
   "cell_type": "markdown",
   "metadata": {
    "colab_type": "text",
    "id": "voIeCVzA_3d5"
   },
   "source": [
    "#### d. Weather ('WEATHER') Feature"
   ]
  },
  {
   "cell_type": "code",
   "execution_count": null,
   "metadata": {
    "colab": {
     "base_uri": "https://localhost:8080/",
     "height": 230
    },
    "colab_type": "code",
    "id": "-gPHh44X_3d5",
    "outputId": "7ae49888-fe77-42f6-bcdf-400eb7164b4e"
   },
   "outputs": [
    {
     "data": {
      "text/plain": [
       "Clear                       68018\n",
       "Raining                     20457\n",
       "Overcast                    16863\n",
       "Unknown                      6885\n",
       "Snowing                       469\n",
       "Other                         445\n",
       "Fog/Smog/Smoke                358\n",
       "Sleet/Hail/Freezing Rain       60\n",
       "Blowing Sand/Dirt              41\n",
       "Severe Crosswind               11\n",
       "Partly Cloudy                   4\n",
       "Name: WEATHER, dtype: int64"
      ]
     },
     "execution_count": 159,
     "metadata": {
      "tags": []
     },
     "output_type": "execute_result"
    }
   ],
   "source": [
    "data['WEATHER'].value_counts()"
   ]
  },
  {
   "cell_type": "code",
   "execution_count": null,
   "metadata": {
    "colab": {
     "base_uri": "https://localhost:8080/",
     "height": 35
    },
    "colab_type": "code",
    "id": "dTq4tyjW_3d7",
    "outputId": "382bfc61-afa1-47d9-f5e1-d14bf4c153ce"
   },
   "outputs": [
    {
     "data": {
      "text/plain": [
       "True"
      ]
     },
     "execution_count": 160,
     "metadata": {
      "tags": []
     },
     "output_type": "execute_result"
    }
   ],
   "source": [
    "data['WEATHER'].isnull().values.any()"
   ]
  },
  {
   "cell_type": "code",
   "execution_count": null,
   "metadata": {
    "colab": {},
    "colab_type": "code",
    "id": "c-16mT4Y_3d9"
   },
   "outputs": [],
   "source": [
    "data['WEATHER'].fillna(\"Unknown\", inplace = True)"
   ]
  },
  {
   "cell_type": "code",
   "execution_count": null,
   "metadata": {
    "colab": {
     "base_uri": "https://localhost:8080/",
     "height": 230
    },
    "colab_type": "code",
    "id": "rmEhI4xv_3d_",
    "outputId": "0cbeddc5-9b09-475f-a8c2-39f32be452a3"
   },
   "outputs": [
    {
     "data": {
      "text/plain": [
       "Clear                       68018\n",
       "Raining                     20457\n",
       "Overcast                    16863\n",
       "Unknown                      9650\n",
       "Snowing                       469\n",
       "Other                         445\n",
       "Fog/Smog/Smoke                358\n",
       "Sleet/Hail/Freezing Rain       60\n",
       "Blowing Sand/Dirt              41\n",
       "Severe Crosswind               11\n",
       "Partly Cloudy                   4\n",
       "Name: WEATHER, dtype: int64"
      ]
     },
     "execution_count": 162,
     "metadata": {
      "tags": []
     },
     "output_type": "execute_result"
    }
   ],
   "source": [
    "data['WEATHER'].value_counts()"
   ]
  },
  {
   "cell_type": "markdown",
   "metadata": {
    "colab_type": "text",
    "id": "W65g_V6r_3eD"
   },
   "source": [
    "Replacing 'NaN' values with 'Unknown' as value in 'WEATHER' attribute."
   ]
  },
  {
   "cell_type": "code",
   "execution_count": null,
   "metadata": {
    "colab": {
     "base_uri": "https://localhost:8080/",
     "height": 458
    },
    "colab_type": "code",
    "id": "KiIg0ABYxrEG",
    "outputId": "1d75298c-01d1-4225-ea9f-75fed6d9cadb"
   },
   "outputs": [
    {
     "data": {
      "image/png": "[encoded data removed]",
      "text/plain": [
       "<Figure size 720x360 with 1 Axes>"
      ]
     },
     "metadata": {
      "needs_background": "light",
      "tags": []
     },
     "output_type": "display_data"
    }
   ],
   "source": [
    "data['WEATHER'].value_counts().nlargest(40).plot(kind='bar', figsize=(10,5))\n",
    "plt.title('Weather')\n",
    "plt.ylabel('Number of instances')\n",
    "plt.xlabel('Weather type');"
   ]
  },
  {
   "cell_type": "markdown",
   "metadata": {
    "colab_type": "text",
    "id": "eIi8PoNT_3eD"
   },
   "source": [
    "#### e. Location Feature"
   ]
  },
  {
   "cell_type": "code",
   "execution_count": null,
   "metadata": {
    "colab": {
     "base_uri": "https://localhost:8080/",
     "height": 230
    },
    "colab_type": "code",
    "id": "zjP8k7-7_3eD",
    "outputId": "4db6d0b8-7c51-46a3-fa03-ab54b49d37e7"
   },
   "outputs": [
    {
     "data": {
      "text/plain": [
       "86800                     UNIVERSITY WAY NE AND NE 45TH ST\n",
       "181357                           ALASKAN WAY AND LENORA ST\n",
       "33868        S BANGOR ST BETWEEN 59TH AVE S AND 60TH AVE S\n",
       "92209          WESTERN AVE BETWEEN PINE ST AND VIRGINIA ST\n",
       "48038                       BROOKLYN AVE NE AND NE 45TH ST\n",
       "                                ...                       \n",
       "9603          DENNY WAY BETWEEN WESTLAKE AVE AND TERRY AVE\n",
       "73706     GLENWILDE PL E BETWEEN E ROANOKE ST AND DEAD END\n",
       "138284                         WOODLAND PL N AND N 65TH ST\n",
       "107442           BOREN AVE BETWEEN SPRING ST AND SENECA ST\n",
       "73575                            8TH AVE NE AND NE 65TH ST\n",
       "Name: LOCATION, Length: 116376, dtype: object"
      ]
     },
     "execution_count": 164,
     "metadata": {
      "tags": []
     },
     "output_type": "execute_result"
    }
   ],
   "source": [
    "data['LOCATION']"
   ]
  },
  {
   "cell_type": "code",
   "execution_count": null,
   "metadata": {
    "colab": {
     "base_uri": "https://localhost:8080/",
     "height": 35
    },
    "colab_type": "code",
    "id": "xjsEecC3_3eG",
    "outputId": "5c521feb-2dc5-4d70-e878-a4eca66b0e06"
   },
   "outputs": [
    {
     "data": {
      "text/plain": [
       "1272"
      ]
     },
     "execution_count": 165,
     "metadata": {
      "tags": []
     },
     "output_type": "execute_result"
    }
   ],
   "source": [
    "data['LOCATION'].isnull().sum()"
   ]
  },
  {
   "cell_type": "code",
   "execution_count": null,
   "metadata": {
    "colab": {},
    "colab_type": "code",
    "id": "qyRVscA-_3eI"
   },
   "outputs": [],
   "source": [
    "data['LOCATION'].fillna(\"Unknown\", inplace = True)"
   ]
  },
  {
   "cell_type": "code",
   "execution_count": null,
   "metadata": {
    "colab": {
     "base_uri": "https://localhost:8080/",
     "height": 230
    },
    "colab_type": "code",
    "id": "dDHkNAE0_3eK",
    "outputId": "bd0b81ee-1aec-4bdf-ba5e-c97379876198"
   },
   "outputs": [
    {
     "data": {
      "text/plain": [
       "Unknown                                                           1272\n",
       "AURORA AVE N BETWEEN N 117TH PL AND N 125TH ST                     185\n",
       "6TH AVE AND JAMES ST                                               174\n",
       "BATTERY ST TUNNEL SB BETWEEN AURORA AVE N AND ALASKAN WY VI SB     173\n",
       "N NORTHGATE WAY BETWEEN MERIDIAN AVE N AND CORLISS AVE N           166\n",
       "                                                                  ... \n",
       "31ST AVE AND E CHERRY ST                                             1\n",
       "11TH AVE NE BETWEEN NE 123RD ST AND NE 125TH ST                      1\n",
       "NE 143RD ST BETWEEN 17TH AVE NE AND 19TH AVE NE                      1\n",
       "54TH AVE S AND S GRATTAN W ST                                        1\n",
       "21ST AVE SW AND 21ST AVE SW TURN RD                                  1\n",
       "Name: LOCATION, Length: 19859, dtype: int64"
      ]
     },
     "execution_count": 167,
     "metadata": {
      "tags": []
     },
     "output_type": "execute_result"
    }
   ],
   "source": [
    "data['LOCATION'].value_counts()"
   ]
  },
  {
   "cell_type": "markdown",
   "metadata": {
    "colab_type": "text",
    "id": "SJzCEn4S_3eN"
   },
   "source": [
    "Replacing 'NaN' values with 'Unknown' in 'LOCATION' attribute."
   ]
  },
  {
   "cell_type": "markdown",
   "metadata": {
    "colab_type": "text",
    "id": "RM3icW1D_3eO"
   },
   "source": [
    "#### f. Junction type ('JUNCTIONTYPE') Feature"
   ]
  },
  {
   "cell_type": "code",
   "execution_count": null,
   "metadata": {
    "colab": {
     "base_uri": "https://localhost:8080/",
     "height": 159
    },
    "colab_type": "code",
    "id": "UeOiaFxg_3eO",
    "outputId": "12438917-6d57-4411-ecac-451485b9e272"
   },
   "outputs": [
    {
     "data": {
      "text/plain": [
       "Mid-Block (not related to intersection)              49447\n",
       "At Intersection (intersection related)               42508\n",
       "Mid-Block (but intersection related)                 13840\n",
       "Driveway Junction                                     6378\n",
       "At Intersection (but not related to intersection)     1239\n",
       "Ramp Junction                                           97\n",
       "Unknown                                                  5\n",
       "Name: JUNCTIONTYPE, dtype: int64"
      ]
     },
     "execution_count": 168,
     "metadata": {
      "tags": []
     },
     "output_type": "execute_result"
    }
   ],
   "source": [
    "data['JUNCTIONTYPE'].value_counts()"
   ]
  },
  {
   "cell_type": "code",
   "execution_count": null,
   "metadata": {
    "colab": {
     "base_uri": "https://localhost:8080/",
     "height": 35
    },
    "colab_type": "code",
    "id": "vyt09WCK_3eR",
    "outputId": "2bcf95cc-4b77-498c-ca4a-221c57c4c30d",
    "scrolled": true
   },
   "outputs": [
    {
     "data": {
      "text/plain": [
       "2862"
      ]
     },
     "execution_count": 169,
     "metadata": {
      "tags": []
     },
     "output_type": "execute_result"
    }
   ],
   "source": [
    "data['JUNCTIONTYPE'].isnull().sum()"
   ]
  },
  {
   "cell_type": "code",
   "execution_count": null,
   "metadata": {
    "colab": {},
    "colab_type": "code",
    "id": "ELmZA_NS_3eV"
   },
   "outputs": [],
   "source": [
    "data['JUNCTIONTYPE'].fillna(\"Other\", inplace = True)"
   ]
  },
  {
   "cell_type": "code",
   "execution_count": null,
   "metadata": {
    "colab": {
     "base_uri": "https://localhost:8080/",
     "height": 177
    },
    "colab_type": "code",
    "id": "5BPx5PPB_3eX",
    "outputId": "2d9bc855-9a67-4c82-ae10-a14af18d7fff"
   },
   "outputs": [
    {
     "data": {
      "text/plain": [
       "Mid-Block (not related to intersection)              49447\n",
       "At Intersection (intersection related)               42508\n",
       "Mid-Block (but intersection related)                 13840\n",
       "Driveway Junction                                     6378\n",
       "Other                                                 2862\n",
       "At Intersection (but not related to intersection)     1239\n",
       "Ramp Junction                                           97\n",
       "Unknown                                                  5\n",
       "Name: JUNCTIONTYPE, dtype: int64"
      ]
     },
     "execution_count": 171,
     "metadata": {
      "tags": []
     },
     "output_type": "execute_result"
    }
   ],
   "source": [
    "data['JUNCTIONTYPE'].value_counts()"
   ]
  },
  {
   "cell_type": "markdown",
   "metadata": {
    "colab_type": "text",
    "id": "OhjHiOo1_3ea"
   },
   "source": [
    "Replacing 'NaN' values with 'Other' as value."
   ]
  },
  {
   "cell_type": "markdown",
   "metadata": {
    "colab_type": "text",
    "id": "NcjIKp3U_3ea"
   },
   "source": [
    "#### g. Num. of People Involved ('PERSONCOUNT') Feature"
   ]
  },
  {
   "cell_type": "code",
   "execution_count": null,
   "metadata": {
    "colab": {
     "base_uri": "https://localhost:8080/",
     "height": 230
    },
    "colab_type": "code",
    "id": "4Vd-Ht0v_3eb",
    "outputId": "adc69df0-e842-414d-8488-eea10cd0c1eb",
    "scrolled": true
   },
   "outputs": [
    {
     "data": {
      "text/plain": [
       "86800     2\n",
       "181357    4\n",
       "33868     2\n",
       "92209     2\n",
       "48038     5\n",
       "         ..\n",
       "9603      7\n",
       "73706     3\n",
       "138284    2\n",
       "107442    3\n",
       "73575     2\n",
       "Name: PERSONCOUNT, Length: 116376, dtype: int64"
      ]
     },
     "execution_count": 172,
     "metadata": {
      "tags": []
     },
     "output_type": "execute_result"
    }
   ],
   "source": [
    "data['PERSONCOUNT']"
   ]
  },
  {
   "cell_type": "code",
   "execution_count": null,
   "metadata": {
    "colab": {
     "base_uri": "https://localhost:8080/",
     "height": 35
    },
    "colab_type": "code",
    "id": "zFkIbr9u_3ee",
    "outputId": "a8e62646-e525-4a12-b4b0-36d573ebdffd"
   },
   "outputs": [
    {
     "data": {
      "text/plain": [
       "0"
      ]
     },
     "execution_count": 173,
     "metadata": {
      "tags": []
     },
     "output_type": "execute_result"
    }
   ],
   "source": [
    "data['PERSONCOUNT'].isnull().sum()"
   ]
  },
  {
   "cell_type": "code",
   "execution_count": null,
   "metadata": {
    "colab": {
     "base_uri": "https://localhost:8080/",
     "height": 346
    },
    "colab_type": "code",
    "id": "ge5hWPQ-z3w_",
    "outputId": "2f2cfa74-e26d-4355-a1a5-253448777430"
   },
   "outputs": [
    {
     "data": {
      "image/png": "[encoded data removed]",
      "text/plain": [
       "<Figure size 720x360 with 1 Axes>"
      ]
     },
     "metadata": {
      "needs_background": "light",
      "tags": []
     },
     "output_type": "display_data"
    }
   ],
   "source": [
    "data['PERSONCOUNT'].value_counts().nlargest(9).plot(kind='bar', figsize=(10,5))\n",
    "plt.title('Persons Involved in the Accident')\n",
    "plt.ylabel('Number of accidents')\n",
    "plt.xlabel('Number of people involved');"
   ]
  },
  {
   "cell_type": "markdown",
   "metadata": {
    "colab_type": "text",
    "id": "YcG9WjMX_3ei"
   },
   "source": [
    "#### h. Num. of vehicles involved ('VEHCOUNT') Feature"
   ]
  },
  {
   "cell_type": "code",
   "execution_count": null,
   "metadata": {
    "colab": {
     "base_uri": "https://localhost:8080/",
     "height": 230
    },
    "colab_type": "code",
    "id": "USSaVYqL_3ej",
    "outputId": "baa05ab3-3078-437b-b8e8-0fd9e130e2c9"
   },
   "outputs": [
    {
     "data": {
      "text/plain": [
       "86800     2\n",
       "181357    2\n",
       "33868     2\n",
       "92209     2\n",
       "48038     3\n",
       "         ..\n",
       "9603      5\n",
       "73706     1\n",
       "138284    2\n",
       "107442    2\n",
       "73575     1\n",
       "Name: VEHCOUNT, Length: 116376, dtype: int64"
      ]
     },
     "execution_count": 175,
     "metadata": {
      "tags": []
     },
     "output_type": "execute_result"
    }
   ],
   "source": [
    "data['VEHCOUNT']"
   ]
  },
  {
   "cell_type": "code",
   "execution_count": null,
   "metadata": {
    "colab": {
     "base_uri": "https://localhost:8080/",
     "height": 35
    },
    "colab_type": "code",
    "id": "hTrGHK_X_3el",
    "outputId": "308a0cd7-aba1-41c5-dfc5-96852f46547a"
   },
   "outputs": [
    {
     "data": {
      "text/plain": [
       "0"
      ]
     },
     "execution_count": 176,
     "metadata": {
      "tags": []
     },
     "output_type": "execute_result"
    }
   ],
   "source": [
    "data['VEHCOUNT'].isnull().sum()"
   ]
  },
  {
   "cell_type": "markdown",
   "metadata": {
    "colab_type": "text",
    "id": "cZMXMjfJ_3en"
   },
   "source": [
    "#### i. Inattention Index ('INATTENTIONIND') Feature \n",
    "\n",
    "If 'Y' - Collision/Accident due to inattention\n",
    "If 'N' - Collision not due to inattention"
   ]
  },
  {
   "cell_type": "code",
   "execution_count": null,
   "metadata": {
    "colab": {
     "base_uri": "https://localhost:8080/",
     "height": 230
    },
    "colab_type": "code",
    "id": "xFEBYhN4_3eo",
    "outputId": "94d6ae8f-a607-4b73-d47f-6a638c24cddc"
   },
   "outputs": [
    {
     "data": {
      "text/plain": [
       "86800     NaN\n",
       "181357    NaN\n",
       "33868     NaN\n",
       "92209     NaN\n",
       "48038     NaN\n",
       "         ... \n",
       "9603      NaN\n",
       "73706     NaN\n",
       "138284    NaN\n",
       "107442    NaN\n",
       "73575     NaN\n",
       "Name: INATTENTIONIND, Length: 116376, dtype: object"
      ]
     },
     "execution_count": 177,
     "metadata": {
      "tags": []
     },
     "output_type": "execute_result"
    }
   ],
   "source": [
    "data['INATTENTIONIND']"
   ]
  },
  {
   "cell_type": "code",
   "execution_count": null,
   "metadata": {
    "colab": {
     "base_uri": "https://localhost:8080/",
     "height": 35
    },
    "colab_type": "code",
    "id": "g802UeBw_3er",
    "outputId": "98872935-7360-4b56-d508-ceaa62d96bb4",
    "scrolled": true
   },
   "outputs": [
    {
     "data": {
      "text/plain": [
       "97590"
      ]
     },
     "execution_count": 178,
     "metadata": {
      "tags": []
     },
     "output_type": "execute_result"
    }
   ],
   "source": [
    "data['INATTENTIONIND'].isnull().sum()"
   ]
  },
  {
   "cell_type": "code",
   "execution_count": null,
   "metadata": {
    "colab": {},
    "colab_type": "code",
    "id": "7StRksCL_3et"
   },
   "outputs": [],
   "source": [
    "data['INATTENTIONIND'].fillna(\"N\", inplace = True)"
   ]
  },
  {
   "cell_type": "code",
   "execution_count": null,
   "metadata": {
    "colab": {
     "base_uri": "https://localhost:8080/",
     "height": 70
    },
    "colab_type": "code",
    "id": "fDo2FqiU_3ev",
    "outputId": "7ab42cc3-b74e-4ab6-d14d-e4800ee20cd0"
   },
   "outputs": [
    {
     "data": {
      "text/plain": [
       "N    97590\n",
       "Y    18786\n",
       "Name: INATTENTIONIND, dtype: int64"
      ]
     },
     "execution_count": 180,
     "metadata": {
      "tags": []
     },
     "output_type": "execute_result"
    }
   ],
   "source": [
    "data['INATTENTIONIND'].value_counts()"
   ]
  },
  {
   "cell_type": "markdown",
   "metadata": {
    "colab_type": "text",
    "id": "B-x1BueN_3ey"
   },
   "source": [
    "Replaced 'NaN' values or blank by 'N' to represent inattention feature."
   ]
  },
  {
   "cell_type": "markdown",
   "metadata": {
    "colab_type": "text",
    "id": "guRdyGi2_3ez"
   },
   "source": [
    "#### j. Address Type ('ADDRTYPE') Feature"
   ]
  },
  {
   "cell_type": "code",
   "execution_count": null,
   "metadata": {
    "colab": {
     "base_uri": "https://localhost:8080/",
     "height": 88
    },
    "colab_type": "code",
    "id": "t2CRFXYF_3ez",
    "outputId": "a79e1c93-227f-49cc-bb6d-10ec2a11f4ae"
   },
   "outputs": [
    {
     "data": {
      "text/plain": [
       "Block           71262\n",
       "Intersection    43842\n",
       "Alley             348\n",
       "Name: ADDRTYPE, dtype: int64"
      ]
     },
     "execution_count": 181,
     "metadata": {
      "tags": []
     },
     "output_type": "execute_result"
    }
   ],
   "source": [
    "data['ADDRTYPE'].value_counts()"
   ]
  },
  {
   "cell_type": "code",
   "execution_count": null,
   "metadata": {
    "colab": {
     "base_uri": "https://localhost:8080/",
     "height": 35
    },
    "colab_type": "code",
    "id": "MMFfT4xm_3e2",
    "outputId": "e2cc6895-6d8c-46bf-ccb6-744957033a9d",
    "scrolled": true
   },
   "outputs": [
    {
     "data": {
      "text/plain": [
       "924"
      ]
     },
     "execution_count": 182,
     "metadata": {
      "tags": []
     },
     "output_type": "execute_result"
    }
   ],
   "source": [
    "data['ADDRTYPE'].isnull().sum()"
   ]
  },
  {
   "cell_type": "code",
   "execution_count": null,
   "metadata": {
    "colab": {},
    "colab_type": "code",
    "id": "2vRdXA8g_3e4"
   },
   "outputs": [],
   "source": [
    "data['ADDRTYPE'].fillna(\"Other\", inplace = True)"
   ]
  },
  {
   "cell_type": "code",
   "execution_count": null,
   "metadata": {
    "colab": {
     "base_uri": "https://localhost:8080/",
     "height": 106
    },
    "colab_type": "code",
    "id": "Yah7Zsc-_3e5",
    "outputId": "a2bded0c-b881-470f-f1de-545d7efbb515",
    "scrolled": true
   },
   "outputs": [
    {
     "data": {
      "text/plain": [
       "Block           71262\n",
       "Intersection    43842\n",
       "Other             924\n",
       "Alley             348\n",
       "Name: ADDRTYPE, dtype: int64"
      ]
     },
     "execution_count": 184,
     "metadata": {
      "tags": []
     },
     "output_type": "execute_result"
    }
   ],
   "source": [
    "data['ADDRTYPE'].value_counts()"
   ]
  },
  {
   "cell_type": "markdown",
   "metadata": {
    "colab_type": "text",
    "id": "yQCK31ao_3fD"
   },
   "source": [
    "### Selecting useful columns from the data for the ML Severity prediction problem"
   ]
  },
  {
   "cell_type": "code",
   "execution_count": null,
   "metadata": {
    "colab": {},
    "colab_type": "code",
    "id": "UWf07Ewb_3fD"
   },
   "outputs": [],
   "source": [
    "data = data.filter(['ROADCOND','LIGHTCOND','WEATHER','SPEEDING','LOCATION','JUNCTIONTYPE','ADDRTYPE','VEHCOUNT','PERSONCOUNT','INATTENTIONIND'])"
   ]
  },
  {
   "cell_type": "code",
   "execution_count": null,
   "metadata": {
    "colab": {
     "base_uri": "https://localhost:8080/",
     "height": 581
    },
    "colab_type": "code",
    "id": "uNofWNVX_3fG",
    "outputId": "00599034-a224-45c9-c6ba-e74d1ce62726"
   },
   "outputs": [
    {
     "data": {
      "text/html": [
       "<div>\n",
       "<style scoped>\n",
       "    .dataframe tbody tr th:only-of-type {\n",
       "        vertical-align: middle;\n",
       "    }\n",
       "\n",
       "    .dataframe tbody tr th {\n",
       "        vertical-align: top;\n",
       "    }\n",
       "\n",
       "    .dataframe thead th {\n",
       "        text-align: right;\n",
       "    }\n",
       "</style>\n",
       "<table border=\"1\" class=\"dataframe\">\n",
       "  <thead>\n",
       "    <tr style=\"text-align: right;\">\n",
       "      <th></th>\n",
       "      <th>ROADCOND</th>\n",
       "      <th>LIGHTCOND</th>\n",
       "      <th>WEATHER</th>\n",
       "      <th>SPEEDING</th>\n",
       "      <th>LOCATION</th>\n",
       "      <th>JUNCTIONTYPE</th>\n",
       "      <th>ADDRTYPE</th>\n",
       "      <th>VEHCOUNT</th>\n",
       "      <th>PERSONCOUNT</th>\n",
       "      <th>INATTENTIONIND</th>\n",
       "    </tr>\n",
       "  </thead>\n",
       "  <tbody>\n",
       "    <tr>\n",
       "      <th>86800</th>\n",
       "      <td>Dry</td>\n",
       "      <td>Daylight</td>\n",
       "      <td>Clear</td>\n",
       "      <td>N</td>\n",
       "      <td>UNIVERSITY WAY NE AND NE 45TH ST</td>\n",
       "      <td>At Intersection (intersection related)</td>\n",
       "      <td>Intersection</td>\n",
       "      <td>2</td>\n",
       "      <td>2</td>\n",
       "      <td>N</td>\n",
       "    </tr>\n",
       "    <tr>\n",
       "      <th>181357</th>\n",
       "      <td>Wet</td>\n",
       "      <td>Daylight</td>\n",
       "      <td>Overcast</td>\n",
       "      <td>N</td>\n",
       "      <td>ALASKAN WAY AND LENORA ST</td>\n",
       "      <td>At Intersection (intersection related)</td>\n",
       "      <td>Intersection</td>\n",
       "      <td>2</td>\n",
       "      <td>4</td>\n",
       "      <td>N</td>\n",
       "    </tr>\n",
       "    <tr>\n",
       "      <th>33868</th>\n",
       "      <td>Dry</td>\n",
       "      <td>Daylight</td>\n",
       "      <td>Clear</td>\n",
       "      <td>N</td>\n",
       "      <td>S BANGOR ST BETWEEN 59TH AVE S AND 60TH AVE S</td>\n",
       "      <td>Mid-Block (not related to intersection)</td>\n",
       "      <td>Block</td>\n",
       "      <td>2</td>\n",
       "      <td>2</td>\n",
       "      <td>N</td>\n",
       "    </tr>\n",
       "    <tr>\n",
       "      <th>92209</th>\n",
       "      <td>Dry</td>\n",
       "      <td>Daylight</td>\n",
       "      <td>Clear</td>\n",
       "      <td>N</td>\n",
       "      <td>WESTERN AVE BETWEEN PINE ST AND VIRGINIA ST</td>\n",
       "      <td>Mid-Block (not related to intersection)</td>\n",
       "      <td>Block</td>\n",
       "      <td>2</td>\n",
       "      <td>2</td>\n",
       "      <td>N</td>\n",
       "    </tr>\n",
       "    <tr>\n",
       "      <th>48038</th>\n",
       "      <td>Dry</td>\n",
       "      <td>Dark - Street Lights On</td>\n",
       "      <td>Clear</td>\n",
       "      <td>N</td>\n",
       "      <td>BROOKLYN AVE NE AND NE 45TH ST</td>\n",
       "      <td>At Intersection (intersection related)</td>\n",
       "      <td>Intersection</td>\n",
       "      <td>3</td>\n",
       "      <td>5</td>\n",
       "      <td>N</td>\n",
       "    </tr>\n",
       "    <tr>\n",
       "      <th>...</th>\n",
       "      <td>...</td>\n",
       "      <td>...</td>\n",
       "      <td>...</td>\n",
       "      <td>...</td>\n",
       "      <td>...</td>\n",
       "      <td>...</td>\n",
       "      <td>...</td>\n",
       "      <td>...</td>\n",
       "      <td>...</td>\n",
       "      <td>...</td>\n",
       "    </tr>\n",
       "    <tr>\n",
       "      <th>9603</th>\n",
       "      <td>Dry</td>\n",
       "      <td>Daylight</td>\n",
       "      <td>Clear</td>\n",
       "      <td>N</td>\n",
       "      <td>DENNY WAY BETWEEN WESTLAKE AVE AND TERRY AVE</td>\n",
       "      <td>Mid-Block (not related to intersection)</td>\n",
       "      <td>Block</td>\n",
       "      <td>5</td>\n",
       "      <td>7</td>\n",
       "      <td>N</td>\n",
       "    </tr>\n",
       "    <tr>\n",
       "      <th>73706</th>\n",
       "      <td>Dry</td>\n",
       "      <td>Daylight</td>\n",
       "      <td>Clear</td>\n",
       "      <td>N</td>\n",
       "      <td>GLENWILDE PL E BETWEEN E ROANOKE ST AND DEAD END</td>\n",
       "      <td>Driveway Junction</td>\n",
       "      <td>Block</td>\n",
       "      <td>1</td>\n",
       "      <td>3</td>\n",
       "      <td>N</td>\n",
       "    </tr>\n",
       "    <tr>\n",
       "      <th>138284</th>\n",
       "      <td>Wet</td>\n",
       "      <td>Dark - Street Lights On</td>\n",
       "      <td>Unknown</td>\n",
       "      <td>N</td>\n",
       "      <td>WOODLAND PL N AND N 65TH ST</td>\n",
       "      <td>At Intersection (intersection related)</td>\n",
       "      <td>Intersection</td>\n",
       "      <td>2</td>\n",
       "      <td>2</td>\n",
       "      <td>N</td>\n",
       "    </tr>\n",
       "    <tr>\n",
       "      <th>107442</th>\n",
       "      <td>Dry</td>\n",
       "      <td>Daylight</td>\n",
       "      <td>Clear</td>\n",
       "      <td>N</td>\n",
       "      <td>BOREN AVE BETWEEN SPRING ST AND SENECA ST</td>\n",
       "      <td>Mid-Block (but intersection related)</td>\n",
       "      <td>Block</td>\n",
       "      <td>2</td>\n",
       "      <td>3</td>\n",
       "      <td>N</td>\n",
       "    </tr>\n",
       "    <tr>\n",
       "      <th>73575</th>\n",
       "      <td>Wet</td>\n",
       "      <td>Dark - Street Lights On</td>\n",
       "      <td>Raining</td>\n",
       "      <td>N</td>\n",
       "      <td>8TH AVE NE AND NE 65TH ST</td>\n",
       "      <td>At Intersection (intersection related)</td>\n",
       "      <td>Intersection</td>\n",
       "      <td>1</td>\n",
       "      <td>2</td>\n",
       "      <td>N</td>\n",
       "    </tr>\n",
       "  </tbody>\n",
       "</table>\n",
       "<p>116376 rows × 10 columns</p>\n",
       "</div>"
      ],
      "text/plain": [
       "       ROADCOND                LIGHTCOND  ... PERSONCOUNT INATTENTIONIND\n",
       "86800       Dry                 Daylight  ...           2              N\n",
       "181357      Wet                 Daylight  ...           4              N\n",
       "33868       Dry                 Daylight  ...           2              N\n",
       "92209       Dry                 Daylight  ...           2              N\n",
       "48038       Dry  Dark - Street Lights On  ...           5              N\n",
       "...         ...                      ...  ...         ...            ...\n",
       "9603        Dry                 Daylight  ...           7              N\n",
       "73706       Dry                 Daylight  ...           3              N\n",
       "138284      Wet  Dark - Street Lights On  ...           2              N\n",
       "107442      Dry                 Daylight  ...           3              N\n",
       "73575       Wet  Dark - Street Lights On  ...           2              N\n",
       "\n",
       "[116376 rows x 10 columns]"
      ]
     },
     "execution_count": 186,
     "metadata": {
      "tags": []
     },
     "output_type": "execute_result"
    }
   ],
   "source": [
    "data"
   ]
  },
  {
   "cell_type": "markdown",
   "metadata": {
    "colab_type": "text",
    "id": "qlUcOsDV_3fI"
   },
   "source": [
    "### 2. Data Preparation - Encoding string and categorical features as labels"
   ]
  },
  {
   "cell_type": "markdown",
   "metadata": {
    "colab_type": "text",
    "id": "yFi7h4Yb_3fI"
   },
   "source": [
    "#### a. Location Feature"
   ]
  },
  {
   "cell_type": "code",
   "execution_count": null,
   "metadata": {
    "colab": {},
    "colab_type": "code",
    "id": "3vv-_Ola_3fJ"
   },
   "outputs": [],
   "source": [
    "from sklearn.preprocessing import LabelEncoder\n",
    "label_encoder = LabelEncoder()\n",
    "label_encoder_location = label_encoder.fit(data['LOCATION'])\n",
    "label_encoded_location = label_encoder.transform(data['LOCATION'])"
   ]
  },
  {
   "cell_type": "code",
   "execution_count": null,
   "metadata": {
    "colab": {},
    "colab_type": "code",
    "id": "HwxUePUr_3fK"
   },
   "outputs": [],
   "source": [
    "data['LOCATION'] = label_encoded_location"
   ]
  },
  {
   "cell_type": "markdown",
   "metadata": {
    "colab_type": "text",
    "id": "7ZrP8ATJ_3fN"
   },
   "source": [
    "#### b. Junction Type Feature"
   ]
  },
  {
   "cell_type": "code",
   "execution_count": null,
   "metadata": {
    "colab": {},
    "colab_type": "code",
    "id": "SeIyT0H0_3fN"
   },
   "outputs": [],
   "source": [
    "from sklearn.preprocessing import LabelEncoder\n",
    "label_encoder = LabelEncoder()\n",
    "label_encoder_junction = label_encoder.fit(data['JUNCTIONTYPE'])\n",
    "label_encoded_junction = label_encoder.transform(data['JUNCTIONTYPE'])"
   ]
  },
  {
   "cell_type": "code",
   "execution_count": null,
   "metadata": {
    "colab": {},
    "colab_type": "code",
    "id": "Ci794glE_3fO"
   },
   "outputs": [],
   "source": [
    "data['JUNCTIONTYPE'] = label_encoded_junction"
   ]
  },
  {
   "cell_type": "markdown",
   "metadata": {
    "colab_type": "text",
    "id": "34saShTA_3fQ"
   },
   "source": [
    "#### c. Light Conditon Feature"
   ]
  },
  {
   "cell_type": "code",
   "execution_count": null,
   "metadata": {
    "colab": {},
    "colab_type": "code",
    "id": "LFBY0iod_3fQ"
   },
   "outputs": [],
   "source": [
    "from sklearn.preprocessing import LabelEncoder\n",
    "label_encoder = LabelEncoder()\n",
    "label_encoder_lightcond = label_encoder.fit(data['LIGHTCOND'])\n",
    "label_encoded_lightcond = label_encoder.transform(data['LIGHTCOND'])"
   ]
  },
  {
   "cell_type": "code",
   "execution_count": null,
   "metadata": {
    "colab": {},
    "colab_type": "code",
    "id": "vQrgRQWL_3fV"
   },
   "outputs": [],
   "source": [
    "data['LIGHTCOND'] = label_encoded_lightcond"
   ]
  },
  {
   "cell_type": "markdown",
   "metadata": {
    "colab_type": "text",
    "id": "7dqIL1h-_3fX"
   },
   "source": [
    "#### d. Road Condition Feature "
   ]
  },
  {
   "cell_type": "code",
   "execution_count": null,
   "metadata": {
    "colab": {},
    "colab_type": "code",
    "id": "kIjhJvib_3fX"
   },
   "outputs": [],
   "source": [
    "from sklearn.preprocessing import LabelEncoder\n",
    "label_encoder = LabelEncoder()\n",
    "label_encoder_roadcond = label_encoder.fit(data['ROADCOND'])\n",
    "label_encoded_roadcond = label_encoder.transform(data['ROADCOND'])"
   ]
  },
  {
   "cell_type": "code",
   "execution_count": null,
   "metadata": {
    "colab": {},
    "colab_type": "code",
    "id": "wo5bdhT2_3fZ"
   },
   "outputs": [],
   "source": [
    "data['ROADCOND'] = label_encoded_roadcond"
   ]
  },
  {
   "cell_type": "markdown",
   "metadata": {
    "colab_type": "text",
    "id": "EUZUTBrZ_3fb"
   },
   "source": [
    "#### e. Weather feature"
   ]
  },
  {
   "cell_type": "code",
   "execution_count": null,
   "metadata": {
    "colab": {},
    "colab_type": "code",
    "id": "SmSbh7kO_3fc"
   },
   "outputs": [],
   "source": [
    "from sklearn.preprocessing import LabelEncoder\n",
    "label_encoder = LabelEncoder()\n",
    "label_encoder_weather = label_encoder.fit(data['WEATHER'])\n",
    "label_encoded_weather = label_encoder.transform(data['WEATHER'])"
   ]
  },
  {
   "cell_type": "code",
   "execution_count": null,
   "metadata": {
    "colab": {},
    "colab_type": "code",
    "id": "28jIhVWX_3fd"
   },
   "outputs": [],
   "source": [
    "data['WEATHER'] = label_encoded_weather"
   ]
  },
  {
   "cell_type": "markdown",
   "metadata": {
    "colab_type": "text",
    "id": "-JksY3-U_3ff"
   },
   "source": [
    "#### f. Speeding feature"
   ]
  },
  {
   "cell_type": "code",
   "execution_count": null,
   "metadata": {
    "colab": {},
    "colab_type": "code",
    "id": "q3cKLVpR_3ff"
   },
   "outputs": [],
   "source": [
    "from sklearn.preprocessing import LabelEncoder\n",
    "label_encoder = LabelEncoder()\n",
    "label_encoder_speeding = label_encoder.fit(data['SPEEDING'])\n",
    "label_encoded_speeding = label_encoder.transform(data['SPEEDING'])\n",
    "\n",
    "data['SPEEDING'] = label_encoded_speeding"
   ]
  },
  {
   "cell_type": "markdown",
   "metadata": {
    "colab_type": "text",
    "id": "bpxOH71d_3fh"
   },
   "source": [
    "#### g. Inattention Index feature"
   ]
  },
  {
   "cell_type": "code",
   "execution_count": null,
   "metadata": {
    "colab": {},
    "colab_type": "code",
    "id": "sOoTJqRG_3fh"
   },
   "outputs": [],
   "source": [
    "from sklearn.preprocessing import LabelEncoder\n",
    "label_encoder = LabelEncoder()\n",
    "label_encoder_inatt = label_encoder.fit(data['INATTENTIONIND'])\n",
    "label_encoded_inatt = label_encoder.transform(data['INATTENTIONIND'])\n",
    "\n",
    "data['INATTENTIONIND'] = label_encoded_inatt"
   ]
  },
  {
   "cell_type": "markdown",
   "metadata": {
    "colab_type": "text",
    "id": "kbbefQyS_3fj"
   },
   "source": [
    "#### h. Address Type Feature"
   ]
  },
  {
   "cell_type": "code",
   "execution_count": null,
   "metadata": {
    "colab": {},
    "colab_type": "code",
    "id": "XKaOD9Vh_3fj"
   },
   "outputs": [],
   "source": [
    "from sklearn.preprocessing import LabelEncoder\n",
    "label_encoder = LabelEncoder()\n",
    "label_encoder_addr = label_encoder.fit(data['ADDRTYPE'])\n",
    "label_encoded_addr = label_encoder.transform(data['ADDRTYPE'])\n",
    "\n",
    "data['ADDRTYPE'] = label_encoded_inatt"
   ]
  },
  {
   "cell_type": "markdown",
   "metadata": {
    "colab_type": "text",
    "id": "hMhQT9qm_3fo"
   },
   "source": [
    "## Final Processed Data "
   ]
  },
  {
   "cell_type": "code",
   "execution_count": null,
   "metadata": {
    "colab": {
     "base_uri": "https://localhost:8080/",
     "height": 411
    },
    "colab_type": "code",
    "id": "j9QOs1Uw_3fp",
    "outputId": "2c25d5f1-b588-47ab-fa45-3128e586fb64",
    "scrolled": true
   },
   "outputs": [
    {
     "data": {
      "text/html": [
       "<div>\n",
       "<style scoped>\n",
       "    .dataframe tbody tr th:only-of-type {\n",
       "        vertical-align: middle;\n",
       "    }\n",
       "\n",
       "    .dataframe tbody tr th {\n",
       "        vertical-align: top;\n",
       "    }\n",
       "\n",
       "    .dataframe thead th {\n",
       "        text-align: right;\n",
       "    }\n",
       "</style>\n",
       "<table border=\"1\" class=\"dataframe\">\n",
       "  <thead>\n",
       "    <tr style=\"text-align: right;\">\n",
       "      <th></th>\n",
       "      <th>ROADCOND</th>\n",
       "      <th>LIGHTCOND</th>\n",
       "      <th>WEATHER</th>\n",
       "      <th>SPEEDING</th>\n",
       "      <th>LOCATION</th>\n",
       "      <th>JUNCTIONTYPE</th>\n",
       "      <th>ADDRTYPE</th>\n",
       "      <th>VEHCOUNT</th>\n",
       "      <th>PERSONCOUNT</th>\n",
       "      <th>INATTENTIONIND</th>\n",
       "    </tr>\n",
       "  </thead>\n",
       "  <tbody>\n",
       "    <tr>\n",
       "      <th>86800</th>\n",
       "      <td>0</td>\n",
       "      <td>5</td>\n",
       "      <td>1</td>\n",
       "      <td>0</td>\n",
       "      <td>18973</td>\n",
       "      <td>1</td>\n",
       "      <td>0</td>\n",
       "      <td>2</td>\n",
       "      <td>2</td>\n",
       "      <td>0</td>\n",
       "    </tr>\n",
       "    <tr>\n",
       "      <th>181357</th>\n",
       "      <td>8</td>\n",
       "      <td>5</td>\n",
       "      <td>4</td>\n",
       "      <td>0</td>\n",
       "      <td>8413</td>\n",
       "      <td>1</td>\n",
       "      <td>0</td>\n",
       "      <td>2</td>\n",
       "      <td>4</td>\n",
       "      <td>0</td>\n",
       "    </tr>\n",
       "    <tr>\n",
       "      <th>33868</th>\n",
       "      <td>0</td>\n",
       "      <td>5</td>\n",
       "      <td>1</td>\n",
       "      <td>0</td>\n",
       "      <td>16517</td>\n",
       "      <td>4</td>\n",
       "      <td>0</td>\n",
       "      <td>2</td>\n",
       "      <td>2</td>\n",
       "      <td>0</td>\n",
       "    </tr>\n",
       "    <tr>\n",
       "      <th>92209</th>\n",
       "      <td>0</td>\n",
       "      <td>5</td>\n",
       "      <td>1</td>\n",
       "      <td>0</td>\n",
       "      <td>19617</td>\n",
       "      <td>4</td>\n",
       "      <td>0</td>\n",
       "      <td>2</td>\n",
       "      <td>2</td>\n",
       "      <td>0</td>\n",
       "    </tr>\n",
       "    <tr>\n",
       "      <th>48038</th>\n",
       "      <td>0</td>\n",
       "      <td>2</td>\n",
       "      <td>1</td>\n",
       "      <td>0</td>\n",
       "      <td>9472</td>\n",
       "      <td>1</td>\n",
       "      <td>0</td>\n",
       "      <td>3</td>\n",
       "      <td>5</td>\n",
       "      <td>0</td>\n",
       "    </tr>\n",
       "    <tr>\n",
       "      <th>...</th>\n",
       "      <td>...</td>\n",
       "      <td>...</td>\n",
       "      <td>...</td>\n",
       "      <td>...</td>\n",
       "      <td>...</td>\n",
       "      <td>...</td>\n",
       "      <td>...</td>\n",
       "      <td>...</td>\n",
       "      <td>...</td>\n",
       "      <td>...</td>\n",
       "    </tr>\n",
       "    <tr>\n",
       "      <th>9603</th>\n",
       "      <td>0</td>\n",
       "      <td>5</td>\n",
       "      <td>1</td>\n",
       "      <td>0</td>\n",
       "      <td>10145</td>\n",
       "      <td>4</td>\n",
       "      <td>0</td>\n",
       "      <td>5</td>\n",
       "      <td>7</td>\n",
       "      <td>0</td>\n",
       "    </tr>\n",
       "    <tr>\n",
       "      <th>73706</th>\n",
       "      <td>0</td>\n",
       "      <td>5</td>\n",
       "      <td>1</td>\n",
       "      <td>0</td>\n",
       "      <td>11700</td>\n",
       "      <td>2</td>\n",
       "      <td>0</td>\n",
       "      <td>1</td>\n",
       "      <td>3</td>\n",
       "      <td>0</td>\n",
       "    </tr>\n",
       "    <tr>\n",
       "      <th>138284</th>\n",
       "      <td>8</td>\n",
       "      <td>2</td>\n",
       "      <td>10</td>\n",
       "      <td>0</td>\n",
       "      <td>19760</td>\n",
       "      <td>1</td>\n",
       "      <td>0</td>\n",
       "      <td>2</td>\n",
       "      <td>2</td>\n",
       "      <td>0</td>\n",
       "    </tr>\n",
       "    <tr>\n",
       "      <th>107442</th>\n",
       "      <td>0</td>\n",
       "      <td>5</td>\n",
       "      <td>1</td>\n",
       "      <td>0</td>\n",
       "      <td>9249</td>\n",
       "      <td>3</td>\n",
       "      <td>0</td>\n",
       "      <td>2</td>\n",
       "      <td>3</td>\n",
       "      <td>0</td>\n",
       "    </tr>\n",
       "    <tr>\n",
       "      <th>73575</th>\n",
       "      <td>8</td>\n",
       "      <td>2</td>\n",
       "      <td>6</td>\n",
       "      <td>0</td>\n",
       "      <td>7890</td>\n",
       "      <td>1</td>\n",
       "      <td>0</td>\n",
       "      <td>1</td>\n",
       "      <td>2</td>\n",
       "      <td>0</td>\n",
       "    </tr>\n",
       "  </tbody>\n",
       "</table>\n",
       "<p>116376 rows × 10 columns</p>\n",
       "</div>"
      ],
      "text/plain": [
       "        ROADCOND  LIGHTCOND  WEATHER  ...  VEHCOUNT  PERSONCOUNT  INATTENTIONIND\n",
       "86800          0          5        1  ...         2            2               0\n",
       "181357         8          5        4  ...         2            4               0\n",
       "33868          0          5        1  ...         2            2               0\n",
       "92209          0          5        1  ...         2            2               0\n",
       "48038          0          2        1  ...         3            5               0\n",
       "...          ...        ...      ...  ...       ...          ...             ...\n",
       "9603           0          5        1  ...         5            7               0\n",
       "73706          0          5        1  ...         1            3               0\n",
       "138284         8          2       10  ...         2            2               0\n",
       "107442         0          5        1  ...         2            3               0\n",
       "73575          8          2        6  ...         1            2               0\n",
       "\n",
       "[116376 rows x 10 columns]"
      ]
     },
     "execution_count": 200,
     "metadata": {
      "tags": []
     },
     "output_type": "execute_result"
    }
   ],
   "source": [
    "data"
   ]
  },
  {
   "cell_type": "code",
   "execution_count": null,
   "metadata": {
    "colab": {},
    "colab_type": "code",
    "id": "-NVHma_N2F5J"
   },
   "outputs": [],
   "source": [
    "cols = data.columns"
   ]
  },
  {
   "cell_type": "code",
   "execution_count": null,
   "metadata": {
    "colab": {
     "base_uri": "https://localhost:8080/",
     "height": 88
    },
    "colab_type": "code",
    "id": "ObK5vs9L2M8b",
    "outputId": "94e4b733-9ac4-48d8-824c-29fea6865bd3"
   },
   "outputs": [
    {
     "data": {
      "text/plain": [
       "Index(['ROADCOND', 'LIGHTCOND', 'WEATHER', 'SPEEDING', 'LOCATION',\n",
       "       'JUNCTIONTYPE', 'ADDRTYPE', 'VEHCOUNT', 'PERSONCOUNT',\n",
       "       'INATTENTIONIND'],\n",
       "      dtype='object')"
      ]
     },
     "execution_count": 202,
     "metadata": {
      "tags": []
     },
     "output_type": "execute_result"
    }
   ],
   "source": [
    "cols"
   ]
  },
  {
   "cell_type": "markdown",
   "metadata": {
    "colab_type": "text",
    "id": "Ek7TEMp2_3ft"
   },
   "source": [
    "#### As it can be seen from the above cell that the data has been converted to numerical form and is now fit to be fed into a classifier for prediction of severity of accident."
   ]
  },
  {
   "cell_type": "markdown",
   "metadata": {
    "colab_type": "text",
    "id": "B61ks60LFNvx"
   },
   "source": [
    "**Data Normalization**"
   ]
  },
  {
   "cell_type": "code",
   "execution_count": null,
   "metadata": {
    "colab": {},
    "colab_type": "code",
    "id": "IzjCF_MxE6ou"
   },
   "outputs": [],
   "source": [
    "from sklearn import preprocessing\n",
    "data = preprocessing.MinMaxScaler().fit_transform(data)"
   ]
  },
  {
   "cell_type": "code",
   "execution_count": null,
   "metadata": {
    "colab": {},
    "colab_type": "code",
    "id": "BGz5hpQdFHyA"
   },
   "outputs": [],
   "source": [
    "data = pd.DataFrame(data,columns=cols)"
   ]
  },
  {
   "cell_type": "markdown",
   "metadata": {
    "colab_type": "text",
    "id": "QjDKnnhH1pkp"
   },
   "source": [
    "**Checking for correlation**"
   ]
  },
  {
   "cell_type": "code",
   "execution_count": null,
   "metadata": {
    "colab": {
     "base_uri": "https://localhost:8080/",
     "height": 614
    },
    "colab_type": "code",
    "id": "7Au4hGso1kbi",
    "outputId": "d08790e2-dcc5-483f-f2c0-4c8bab183750"
   },
   "outputs": [
    {
     "data": {
      "text/plain": [
       "<matplotlib.axes._subplots.AxesSubplot at 0x7f6107b6e7b8>"
      ]
     },
     "execution_count": 207,
     "metadata": {
      "tags": []
     },
     "output_type": "execute_result"
    },
    {
     "data": {
      "image/png": "[encoded data removed]",
      "text/plain": [
       "<Figure size 1440x720 with 2 Axes>"
      ]
     },
     "metadata": {
      "needs_background": "light",
      "tags": []
     },
     "output_type": "display_data"
    }
   ],
   "source": [
    "plt.figure(figsize=(20,10))\n",
    "c= data.corr()\n",
    "sns.heatmap(c,cmap=\"YlGnBu\",annot=True)"
   ]
  },
  {
   "cell_type": "markdown",
   "metadata": {
    "colab_type": "text",
    "id": "3BEpawZz2lUy"
   },
   "source": [
    "There is a significant correlation between Weather and Road Condition features observable in the heatmap."
   ]
  },
  {
   "cell_type": "markdown",
   "metadata": {
    "colab_type": "text",
    "id": "B8Fy8hY8_3ft"
   },
   "source": [
    "## Train-Test split of data"
   ]
  },
  {
   "cell_type": "code",
   "execution_count": null,
   "metadata": {
    "colab": {},
    "colab_type": "code",
    "id": "nGd3GUwW_3fu"
   },
   "outputs": [],
   "source": [
    "X_train, X_test, y_train, y_test = train_test_split(data,labels['SEVERITYCODE'], test_size = 0.33, stratify = labels,  random_state = 45)"
   ]
  },
  {
   "cell_type": "code",
   "execution_count": null,
   "metadata": {
    "colab": {
     "base_uri": "https://localhost:8080/",
     "height": 88
    },
    "colab_type": "code",
    "id": "86L5nJy__3fv",
    "outputId": "cafd2e21-6dff-4416-d2de-f058e962c0a5"
   },
   "outputs": [
    {
     "name": "stdout",
     "output_type": "stream",
     "text": [
      "Shape of X_train :  (77971, 10)\n",
      "Shape of X_test  :   (38405, 10)\n",
      "Shape of y_train :  (77971,)\n",
      "Shape of y_test  :   (38405,)\n"
     ]
    }
   ],
   "source": [
    "print(\"Shape of X_train : \", X_train.shape)\n",
    "print(\"Shape of X_test  :  \", X_test.shape)\n",
    "print(\"Shape of y_train : \", y_train.shape)\n",
    "print(\"Shape of y_test  :  \", y_test.shape)"
   ]
  },
  {
   "cell_type": "markdown",
   "metadata": {
    "colab_type": "text",
    "id": "Sb0lJXJh_3fy"
   },
   "source": [
    "## Modeling "
   ]
  },
  {
   "cell_type": "code",
   "execution_count": null,
   "metadata": {
    "colab": {},
    "colab_type": "code",
    "id": "3epS_AkLFWfx"
   },
   "outputs": [],
   "source": [
    "from sklearn.model_selection import GridSearchCV"
   ]
  },
  {
   "cell_type": "markdown",
   "metadata": {
    "colab_type": "text",
    "id": "MUyHEvHUz2ya"
   },
   "source": [
    "**K-Nearest Neighbor Classier**"
   ]
  },
  {
   "cell_type": "code",
   "execution_count": null,
   "metadata": {
    "colab": {},
    "colab_type": "code",
    "id": "J52G4jVk3Awt"
   },
   "outputs": [],
   "source": [
    "from sklearn.neighbors import KNeighborsClassifier"
   ]
  },
  {
   "cell_type": "markdown",
   "metadata": {
    "colab_type": "text",
    "id": "YWcr8SFY0_0J"
   },
   "source": [
    "Hyperparameter Tuning - Finding best 'k' or 'n_neigbors' and 'leaf_size' using GridSearchCV"
   ]
  },
  {
   "cell_type": "code",
   "execution_count": null,
   "metadata": {
    "colab": {},
    "colab_type": "code",
    "id": "UekDo1Jg2GfW"
   },
   "outputs": [],
   "source": [
    "hyperparameters = {'leaf_size' : [25,30,35], \n",
    "                   'n_neighbors' : [15,20,25,30] \n",
    "                   }"
   ]
  },
  {
   "cell_type": "code",
   "execution_count": null,
   "metadata": {
    "colab": {
     "base_uri": "https://localhost:8080/",
     "height": 212
    },
    "colab_type": "code",
    "id": "r_0NZEQNUO0i",
    "outputId": "63c6573c-0e62-484b-d049-4a4c1125cf5f"
   },
   "outputs": [
    {
     "data": {
      "text/plain": [
       "GridSearchCV(cv=None, error_score=nan,\n",
       "             estimator=KNeighborsClassifier(algorithm='auto', leaf_size=30,\n",
       "                                            metric='minkowski',\n",
       "                                            metric_params=None, n_jobs=None,\n",
       "                                            n_neighbors=5, p=2,\n",
       "                                            weights='uniform'),\n",
       "             iid='deprecated', n_jobs=None,\n",
       "             param_grid={'leaf_size': [25, 30, 35],\n",
       "                         'n_neighbors': [15, 20, 25, 30]},\n",
       "             pre_dispatch='2*n_jobs', refit=True, return_train_score=False,\n",
       "             scoring=None, verbose=0)"
      ]
     },
     "execution_count": 163,
     "metadata": {
      "tags": []
     },
     "output_type": "execute_result"
    }
   ],
   "source": [
    "classifier = GridSearchCV(KNeighborsClassifier(), hyperparameters)\n",
    "classifier.fit(X_train, y_train)"
   ]
  },
  {
   "cell_type": "code",
   "execution_count": null,
   "metadata": {
    "colab": {
     "base_uri": "https://localhost:8080/",
     "height": 35
    },
    "colab_type": "code",
    "id": "oIW_35Ye4Jfh",
    "outputId": "bae11a71-9741-453f-95af-1feb15a78e2a"
   },
   "outputs": [
    {
     "data": {
      "text/plain": [
       "{'leaf_size': 25, 'n_neighbors': 25}"
      ]
     },
     "execution_count": 164,
     "metadata": {
      "tags": []
     },
     "output_type": "execute_result"
    }
   ],
   "source": [
    "classifier.best_params_"
   ]
  },
  {
   "cell_type": "code",
   "execution_count": null,
   "metadata": {
    "colab": {},
    "colab_type": "code",
    "id": "H09JEJaH4-r_"
   },
   "outputs": [],
   "source": [
    "classifier = KNeighborsClassifier(leaf_size = 25, n_neighbors = 25)"
   ]
  },
  {
   "cell_type": "code",
   "execution_count": null,
   "metadata": {
    "colab": {},
    "colab_type": "code",
    "id": "lqcDMdgUGZV4"
   },
   "outputs": [],
   "source": [
    "Knn_classifier = classifier.fit(X_train,y_train)"
   ]
  },
  {
   "cell_type": "markdown",
   "metadata": {
    "colab_type": "text",
    "id": "fm3VUxCeBdB6"
   },
   "source": [
    "**Decision Tree Classifier**"
   ]
  },
  {
   "cell_type": "markdown",
   "metadata": {
    "colab_type": "text",
    "id": "ApL_X07sBtla"
   },
   "source": [
    "Hyperparameter Tuning "
   ]
  },
  {
   "cell_type": "code",
   "execution_count": null,
   "metadata": {
    "colab": {},
    "colab_type": "code",
    "id": "YIyvZ4jsFkfj"
   },
   "outputs": [],
   "source": [
    "from sklearn.tree import DecisionTreeClassifier"
   ]
  },
  {
   "cell_type": "code",
   "execution_count": null,
   "metadata": {
    "colab": {},
    "colab_type": "code",
    "id": "AR_0XiKZUVhR"
   },
   "outputs": [],
   "source": [
    "hyperparameters = {\"max_depth\": [6,7,8,9,10],\n",
    "                   \"max_features\": [5,6,7,8,9],\n",
    "              \"criterion\": [\"gini\", \"entropy\"]}"
   ]
  },
  {
   "cell_type": "code",
   "execution_count": null,
   "metadata": {
    "colab": {
     "base_uri": "https://localhost:8080/",
     "height": 355
    },
    "colab_type": "code",
    "id": "Sf5gREVp_3fy",
    "outputId": "06ce73c1-a83d-4aa1-b4c9-e889ff7ad933"
   },
   "outputs": [
    {
     "data": {
      "text/plain": [
       "GridSearchCV(cv=None, error_score=nan,\n",
       "             estimator=DecisionTreeClassifier(ccp_alpha=0.0, class_weight=None,\n",
       "                                              criterion='gini', max_depth=None,\n",
       "                                              max_features=None,\n",
       "                                              max_leaf_nodes=None,\n",
       "                                              min_impurity_decrease=0.0,\n",
       "                                              min_impurity_split=None,\n",
       "                                              min_samples_leaf=1,\n",
       "                                              min_samples_split=2,\n",
       "                                              min_weight_fraction_leaf=0.0,\n",
       "                                              presort='deprecated',\n",
       "                                              random_state=None,\n",
       "                                              splitter='best'),\n",
       "             iid='deprecated', n_jobs=None,\n",
       "             param_grid={'criterion': ['gini', 'entropy'],\n",
       "                         'max_depth': [6, 7, 8, 9, 10],\n",
       "                         'max_features': [5, 6, 7, 8, 9]},\n",
       "             pre_dispatch='2*n_jobs', refit=True, return_train_score=False,\n",
       "             scoring=None, verbose=0)"
      ]
     },
     "execution_count": 169,
     "metadata": {
      "tags": []
     },
     "output_type": "execute_result"
    }
   ],
   "source": [
    "classifier = GridSearchCV(DecisionTreeClassifier(), hyperparameters)\n",
    "classifier.fit(X_train, y_train)"
   ]
  },
  {
   "cell_type": "code",
   "execution_count": null,
   "metadata": {
    "colab": {
     "base_uri": "https://localhost:8080/",
     "height": 35
    },
    "colab_type": "code",
    "id": "G3jaVVC8_3f5",
    "outputId": "83617dac-8da8-47da-a511-d84786b4578a"
   },
   "outputs": [
    {
     "data": {
      "text/plain": [
       "{'criterion': 'entropy', 'max_depth': 8, 'max_features': 8}"
      ]
     },
     "execution_count": 170,
     "metadata": {
      "tags": []
     },
     "output_type": "execute_result"
    }
   ],
   "source": [
    "classifier.best_params_"
   ]
  },
  {
   "cell_type": "code",
   "execution_count": null,
   "metadata": {
    "colab": {},
    "colab_type": "code",
    "id": "EEdnyhbDYgEu"
   },
   "outputs": [],
   "source": [
    "classfier = DecisionTreeClassifier(criterion = 'gini', max_depth =  8, max_features = 8)"
   ]
  },
  {
   "cell_type": "code",
   "execution_count": null,
   "metadata": {
    "colab": {},
    "colab_type": "code",
    "id": "hVUtGI1JGrK8"
   },
   "outputs": [],
   "source": [
    "DTClassifier = classifier.fit(X_train,y_train)"
   ]
  },
  {
   "cell_type": "markdown",
   "metadata": {
    "colab_type": "text",
    "id": "eq60UDWxDO4J"
   },
   "source": [
    "**Random Forest Classifier**"
   ]
  },
  {
   "cell_type": "code",
   "execution_count": null,
   "metadata": {
    "colab": {},
    "colab_type": "code",
    "id": "-Wd6ytXuF2b_"
   },
   "outputs": [],
   "source": [
    "from sklearn.ensemble import RandomForestClassifier"
   ]
  },
  {
   "cell_type": "code",
   "execution_count": null,
   "metadata": {
    "colab": {},
    "colab_type": "code",
    "id": "pjpd1qv3DNhg"
   },
   "outputs": [],
   "source": [
    "hyperparameters = {'n_estimators': [200,300,400],\n",
    "                   'max_depth': [3,4,5]}"
   ]
  },
  {
   "cell_type": "code",
   "execution_count": null,
   "metadata": {
    "colab": {
     "base_uri": "https://localhost:8080/",
     "height": 390
    },
    "colab_type": "code",
    "id": "Xcs4PH-lYt-r",
    "outputId": "ad6c41fe-461c-4f68-99d9-dcabc6ebc248"
   },
   "outputs": [
    {
     "data": {
      "text/plain": [
       "GridSearchCV(cv=None, error_score=nan,\n",
       "             estimator=RandomForestClassifier(bootstrap=True, ccp_alpha=0.0,\n",
       "                                              class_weight=None,\n",
       "                                              criterion='gini', max_depth=None,\n",
       "                                              max_features=5,\n",
       "                                              max_leaf_nodes=None,\n",
       "                                              max_samples=None,\n",
       "                                              min_impurity_decrease=0.0,\n",
       "                                              min_impurity_split=None,\n",
       "                                              min_samples_leaf=1,\n",
       "                                              min_samples_split=2,\n",
       "                                              min_weight_fraction_leaf=0.0,\n",
       "                                              n_estimators=100, n_jobs=None,\n",
       "                                              oob_score=False,\n",
       "                                              random_state=None, verbose=0,\n",
       "                                              warm_start=False),\n",
       "             iid='deprecated', n_jobs=None,\n",
       "             param_grid={'max_depth': [3, 4, 5],\n",
       "                         'n_estimators': [200, 300, 400]},\n",
       "             pre_dispatch='2*n_jobs', refit=True, return_train_score=False,\n",
       "             scoring=None, verbose=0)"
      ]
     },
     "execution_count": 179,
     "metadata": {
      "tags": []
     },
     "output_type": "execute_result"
    }
   ],
   "source": [
    "classifier = GridSearchCV(RandomForestClassifier(max_features = 5), hyperparameters)\n",
    "classifier.fit(X_train, y_train)"
   ]
  },
  {
   "cell_type": "code",
   "execution_count": null,
   "metadata": {
    "colab": {
     "base_uri": "https://localhost:8080/",
     "height": 35
    },
    "colab_type": "code",
    "id": "vGdxD1OgD-r7",
    "outputId": "666ec799-7922-447d-d130-aa29ecc5c567"
   },
   "outputs": [
    {
     "data": {
      "text/plain": [
       "{'max_depth': 5, 'n_estimators': 400}"
      ]
     },
     "execution_count": 180,
     "metadata": {
      "tags": []
     },
     "output_type": "execute_result"
    }
   ],
   "source": [
    "classifier.best_params_"
   ]
  },
  {
   "cell_type": "code",
   "execution_count": null,
   "metadata": {
    "colab": {},
    "colab_type": "code",
    "id": "1gjg6GtyECbA"
   },
   "outputs": [],
   "source": [
    "classfier = RandomForestClassifier(max_depth = 5, max_features = 5, n_estimators = 400)"
   ]
  },
  {
   "cell_type": "code",
   "execution_count": null,
   "metadata": {
    "colab": {},
    "colab_type": "code",
    "id": "HOkeD9uKEKHI"
   },
   "outputs": [],
   "source": [
    "RFClassifier = classifier.fit(X_train, y_train)"
   ]
  },
  {
   "cell_type": "markdown",
   "metadata": {
    "colab_type": "text",
    "id": "RzdGRLvWJGyg"
   },
   "source": [
    "# Evaluation"
   ]
  },
  {
   "cell_type": "code",
   "execution_count": null,
   "metadata": {
    "colab": {},
    "colab_type": "code",
    "id": "mMuNZDCNLlZQ"
   },
   "outputs": [],
   "source": [
    "from sklearn.metrics import classification_report\n",
    "from sklearn.metrics import confusion_matrix\n",
    "from sklearn.metrics import jaccard_score, f1_score"
   ]
  },
  {
   "cell_type": "markdown",
   "metadata": {
    "colab_type": "text",
    "id": "4eDKr7KzK32n"
   },
   "source": [
    "KNN Classifier"
   ]
  },
  {
   "cell_type": "code",
   "execution_count": null,
   "metadata": {
    "colab": {},
    "colab_type": "code",
    "id": "D1dYTFBTEH96"
   },
   "outputs": [],
   "source": [
    "y_pred = Knn_classifier.predict(X_test)"
   ]
  },
  {
   "cell_type": "code",
   "execution_count": null,
   "metadata": {
    "colab": {
     "base_uri": "https://localhost:8080/",
     "height": 177
    },
    "colab_type": "code",
    "id": "bAWw95IUKzqh",
    "outputId": "236786e8-0ce9-41c6-ae7e-9114a0a9cf74"
   },
   "outputs": [
    {
     "name": "stdout",
     "output_type": "stream",
     "text": [
      "              precision    recall  f1-score   support\n",
      "\n",
      "           1       0.64      0.63      0.64     19202\n",
      "           2       0.64      0.65      0.64     19203\n",
      "\n",
      "    accuracy                           0.64     38405\n",
      "   macro avg       0.64      0.64      0.64     38405\n",
      "weighted avg       0.64      0.64      0.64     38405\n",
      "\n"
     ]
    }
   ],
   "source": [
    "print(classification_report(y_test,y_pred))"
   ]
  },
  {
   "cell_type": "code",
   "execution_count": null,
   "metadata": {
    "colab": {
     "base_uri": "https://localhost:8080/",
     "height": 35
    },
    "colab_type": "code",
    "id": "5y9Kwv93MFxd",
    "outputId": "659b8631-809a-4e74-e6de-ff7389ce2d83"
   },
   "outputs": [
    {
     "name": "stdout",
     "output_type": "stream",
     "text": [
      "0.6365501999579036\n"
     ]
    }
   ],
   "source": [
    "print(f1_score(y_test,y_pred))"
   ]
  },
  {
   "cell_type": "code",
   "execution_count": null,
   "metadata": {
    "colab": {
     "base_uri": "https://localhost:8080/",
     "height": 52
    },
    "colab_type": "code",
    "id": "wwh2jCG9M8at",
    "outputId": "1df73eff-802f-488a-e975-f1faa0489ed6"
   },
   "outputs": [
    {
     "name": "stdout",
     "output_type": "stream",
     "text": [
      "[[12097  7105]\n",
      " [ 6709 12494]]\n"
     ]
    }
   ],
   "source": [
    "print(confusion_matrix(y_test,y_pred))"
   ]
  },
  {
   "cell_type": "markdown",
   "metadata": {
    "colab_type": "text",
    "id": "o2odRPrjMwef"
   },
   "source": [
    "**Decision Tree Classifier**"
   ]
  },
  {
   "cell_type": "code",
   "execution_count": null,
   "metadata": {
    "colab": {},
    "colab_type": "code",
    "id": "3DAeuPC3MdMn"
   },
   "outputs": [],
   "source": [
    "y_pred = DTClassifier.predict(X_test)"
   ]
  },
  {
   "cell_type": "code",
   "execution_count": null,
   "metadata": {
    "colab": {
     "base_uri": "https://localhost:8080/",
     "height": 177
    },
    "colab_type": "code",
    "id": "H92UcXkBM34A",
    "outputId": "2d7fde3e-d6ea-44f7-f259-982ed833bc8a"
   },
   "outputs": [
    {
     "name": "stdout",
     "output_type": "stream",
     "text": [
      "              precision    recall  f1-score   support\n",
      "\n",
      "           1       0.69      0.60      0.64     19202\n",
      "           2       0.65      0.72      0.68     19203\n",
      "\n",
      "    accuracy                           0.66     38405\n",
      "   macro avg       0.67      0.66      0.66     38405\n",
      "weighted avg       0.67      0.66      0.66     38405\n",
      "\n"
     ]
    }
   ],
   "source": [
    "print(classification_report(y_test,y_pred))"
   ]
  },
  {
   "cell_type": "code",
   "execution_count": null,
   "metadata": {
    "colab": {
     "base_uri": "https://localhost:8080/",
     "height": 35
    },
    "colab_type": "code",
    "id": "vpAfdHk6NGFE",
    "outputId": "3a3d1c6c-cd4f-43df-f463-9d79a071775e"
   },
   "outputs": [
    {
     "name": "stdout",
     "output_type": "stream",
     "text": [
      "0.6428789096046762\n"
     ]
    }
   ],
   "source": [
    "print(f1_score(y_test,y_pred))"
   ]
  },
  {
   "cell_type": "code",
   "execution_count": null,
   "metadata": {
    "colab": {
     "base_uri": "https://localhost:8080/",
     "height": 52
    },
    "colab_type": "code",
    "id": "t3GeAwQTNHei",
    "outputId": "a01b2cdd-58e7-4a58-9d0e-b1cb6499e46d"
   },
   "outputs": [
    {
     "name": "stdout",
     "output_type": "stream",
     "text": [
      "[[11603  7599]\n",
      " [ 5292 13911]]\n"
     ]
    }
   ],
   "source": [
    "print(confusion_matrix(y_test,y_pred))"
   ]
  },
  {
   "cell_type": "markdown",
   "metadata": {
    "colab_type": "text",
    "id": "c-v01K3NN09P"
   },
   "source": [
    "**Random Forest Classifier**"
   ]
  },
  {
   "cell_type": "code",
   "execution_count": null,
   "metadata": {
    "colab": {},
    "colab_type": "code",
    "id": "CIoWgivpNJab"
   },
   "outputs": [],
   "source": [
    "y_pred = RFClassifier.predict(X_test)"
   ]
  },
  {
   "cell_type": "code",
   "execution_count": null,
   "metadata": {
    "colab": {
     "base_uri": "https://localhost:8080/",
     "height": 177
    },
    "colab_type": "code",
    "id": "aYsZkkcBN5R_",
    "outputId": "a2ceb667-3b20-46ff-8857-ae456a79c132"
   },
   "outputs": [
    {
     "name": "stdout",
     "output_type": "stream",
     "text": [
      "              precision    recall  f1-score   support\n",
      "\n",
      "           1       0.69      0.58      0.63     19202\n",
      "           2       0.64      0.74      0.69     19203\n",
      "\n",
      "    accuracy                           0.66     38405\n",
      "   macro avg       0.67      0.66      0.66     38405\n",
      "weighted avg       0.67      0.66      0.66     38405\n",
      "\n"
     ]
    }
   ],
   "source": [
    "print(classification_report(y_test,y_pred))"
   ]
  },
  {
   "cell_type": "code",
   "execution_count": null,
   "metadata": {
    "colab": {
     "base_uri": "https://localhost:8080/",
     "height": 35
    },
    "colab_type": "code",
    "id": "893YA22iN7wR",
    "outputId": "ee9c96e8-5dde-451c-dfad-0a2ac9889df4"
   },
   "outputs": [
    {
     "name": "stdout",
     "output_type": "stream",
     "text": [
      "0.6309763355533513\n"
     ]
    }
   ],
   "source": [
    "print(f1_score(y_test,y_pred))"
   ]
  },
  {
   "cell_type": "code",
   "execution_count": null,
   "metadata": {
    "colab": {
     "base_uri": "https://localhost:8080/",
     "height": 52
    },
    "colab_type": "code",
    "id": "KFofQeoPOCd4",
    "outputId": "6127fb27-4fd2-45cf-c5a7-dd8cb021190f"
   },
   "outputs": [
    {
     "name": "stdout",
     "output_type": "stream",
     "text": [
      "[[11132  8070]\n",
      " [ 4951 14252]]\n"
     ]
    }
   ],
   "source": [
    "print(confusion_matrix(y_test,y_pred))"
   ]
  },
  {
   "cell_type": "markdown",
   "metadata": {
    "colab_type": "text",
    "id": "cIx9rUXqtfNr"
   },
   "source": [
    "## Results"
   ]
  },
  {
   "cell_type": "code",
   "execution_count": null,
   "metadata": {
    "colab": {},
    "colab_type": "code",
    "id": "T-OPvQQiOEZb"
   },
   "outputs": [],
   "source": [
    "from tabulate import tabulate"
   ]
  },
  {
   "cell_type": "code",
   "execution_count": null,
   "metadata": {
    "colab": {
     "base_uri": "https://localhost:8080/",
     "height": 159
    },
    "colab_type": "code",
    "id": "E4j4If7AtdDK",
    "outputId": "bb64a028-4cbd-480c-919a-c30fda4d0b10"
   },
   "outputs": [
    {
     "name": "stdout",
     "output_type": "stream",
     "text": [
      "Results: \n",
      "+---------------------+----------+-----------+--------+---------+\n",
      "|     Classifier      | Accuracy | Precision | Recall | F1Score |\n",
      "+---------------------+----------+-----------+--------+---------+\n",
      "| K-Nearest Neighbors |   0.64   |   0.64    |  0.63  |  0.64   |\n",
      "|    Decision Tree    |   0.66   |   0.69    |  0.6   |  0.64   |\n",
      "|    Random Forest    |   0.66   |   0.69    |  0.58  |  0.63   |\n",
      "+---------------------+----------+-----------+--------+---------+\n"
     ]
    }
   ],
   "source": [
    "table = [[\"K-Nearest Neighbors\",0.64,0.64,0.63,0.64],[\"Decision Tree\",0.66,0.69,0.60,0.64],\n",
    "          [\"Random Forest\",0.66,0.69,0.58,0.63]]\n",
    "headers = [\"Classifier\", \"Accuracy\", \"Precision\", \"Recall\", \"F1Score\"]\n",
    "print(\"Results: \")\n",
    "print(tabulate(table, headers,tablefmt=\"pretty\"))\n"
   ]
  },
  {
   "cell_type": "code",
   "execution_count": null,
   "metadata": {
    "colab": {},
    "colab_type": "code",
    "id": "Lr3WmORM5unO"
   },
   "outputs": [],
   "source": []
  }
 ],
 "metadata": {
  "colab": {
   "collapsed_sections": [],
   "name": "Capstone_Project.ipynb",
   "provenance": []
  },
  "kernelspec": {
   "display_name": "Python 3",
   "language": "python",
   "name": "python3"
  },
  "language_info": {
   "codemirror_mode": {
    "name": "ipython",
    "version": 3
   },
   "file_extension": ".py",
   "mimetype": "text/x-python",
   "name": "python",
   "nbconvert_exporter": "python",
   "pygments_lexer": "ipython3",
   "version": "3.7.6"
  }
 },
 "nbformat": 4,
 "nbformat_minor": 1
}
